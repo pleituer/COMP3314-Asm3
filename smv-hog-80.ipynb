{
 "cells": [
  {
   "cell_type": "markdown",
   "metadata": {},
   "source": [
    "Note: We are unable to execute all cells, due to the large amount of time it takes, and that there are frequent crashes during the execution of cells when we run them on our own environment"
   ]
  },
  {
   "attachments": {},
   "cell_type": "markdown",
   "metadata": {},
   "source": [
    "## Importing all necessary libraries"
   ]
  },
  {
   "cell_type": "code",
   "execution_count": null,
   "metadata": {},
   "outputs": [],
   "source": [
    "import pandas as pd\n",
    "import numpy as np\n",
    "from PIL import Image\n",
    "\n",
    "from sklearn.discriminant_analysis import LinearDiscriminantAnalysis\n",
    "\n",
    "from sklearn.preprocessing import StandardScaler\n",
    "\n",
    "from sklearn.svm import SVC\n",
    "\n",
    "from sklearn.model_selection import train_test_split\n",
    "\n",
    "from skimage.feature import hog\n",
    "from cv2 import HOGDescriptor\n",
    "\n",
    "\n",
    "from skimage.feature import daisy\n",
    "\n",
    "import cv2\n",
    "from cv2 import INTER_CUBIC\n",
    "from cv2 import resize as _resize\n",
    "\n",
    "import matplotlib.pyplot as plt\n",
    "\n",
    "import pickle\n",
    "import json"
   ]
  },
  {
   "cell_type": "code",
   "execution_count": 2,
   "metadata": {},
   "outputs": [
    {
     "name": "stderr",
     "output_type": "stream",
     "text": [
      "Intel(R) Extension for Scikit-learn* enabled (https://github.com/intel/scikit-learn-intelex)\n"
     ]
    }
   ],
   "source": [
    "# Intel chips, used for cpu acceleration\n",
    "\n",
    "# Installation\n",
    "# !pip install scikit-learn-intelex\n",
    "\n",
    "from sklearnex import patch_sklearn\n",
    "patch_sklearn()"
   ]
  },
  {
   "cell_type": "code",
   "execution_count": 3,
   "metadata": {},
   "outputs": [],
   "source": [
    "# Linux/WSL, used for gpu acceleration\n",
    "\n",
    "# Installation\n",
    "# conda create -n rapids-24.04 -c rapidsai -c conda-forge -c nvidia rapids=24.04 python=3.11 cuda-version=12.2\n",
    "\n",
    "from cuml.svm import SVC "
   ]
  },
  {
   "attachments": {},
   "cell_type": "markdown",
   "metadata": {},
   "source": [
    "## Global params"
   ]
  },
  {
   "cell_type": "code",
   "execution_count": 4,
   "metadata": {},
   "outputs": [],
   "source": [
    "SEED = 69\n",
    "FULL = False"
   ]
  },
  {
   "attachments": {},
   "cell_type": "markdown",
   "metadata": {},
   "source": [
    "## Reading Data"
   ]
  },
  {
   "cell_type": "code",
   "execution_count": 5,
   "metadata": {},
   "outputs": [],
   "source": [
    "def read_data(mode=\"train\", p=0.2, augment=False, seed=None):\n",
    "    \"\"\"\n",
    "    Read the training/testing files and return the input data and labels.\n",
    "\n",
    "    Parameters:\n",
    "    ----------\n",
    "    mode (str): 'train' or 'test' to read the training or testing data.\n",
    "    p (float): fraction of the data to read. Useful for debugging.\n",
    "    seed (int): random seed to use for reproducibility.\n",
    "    augment (bool): whether or not to augment\n",
    "\n",
    "    Returns:\n",
    "    -------\n",
    "    X (np.array): input data\n",
    "    y (np.array): labels\n",
    "    \"\"\"\n",
    "    if mode == \"train\" or mode == \"test\":\n",
    "        data = pd.read_csv('train.csv')\n",
    "        mode = \"train\"\n",
    "    elif mode == \"predict\":\n",
    "        data = pd.read_csv('test.csv')\n",
    "        mode = \"test\"\n",
    "    else:\n",
    "        raise ValueError(\"mode must be 'train' or 'test' or 'predict'\")\n",
    "\n",
    "    if mode != \"test\":\n",
    "        if seed is None:data = data.sample(frac=p)\n",
    "        else: data = data.sample(frac=p, random_state=seed)\n",
    "\n",
    "    X = data['im_name'].apply(lambda filename: np.asarray(Image.open(f\"{mode}_ims/{filename}\"))).values\n",
    "    y = data['label'].values\n",
    "    X = np.stack(X)\n",
    "    if augment:\n",
    "        X = np.concatenate([X, X[:, :, ::-1, :]])\n",
    "        y = np.concatenate([y, y])\n",
    "\n",
    "    return X, y"
   ]
  },
  {
   "cell_type": "code",
   "execution_count": 6,
   "metadata": {},
   "outputs": [],
   "source": [
    "def predict_data(predictedLabels, fp='test.csv'):\n",
    "    \"\"\"\n",
    "    Writes and predicts the testing files.\n",
    "\n",
    "    Parameters:\n",
    "    ----------\n",
    "    predictedLabels (np.array): predicted labels for the testing data.\n",
    "    fp (str): filepath to write the predicted labels.\n",
    "\n",
    "    Returns:\n",
    "    -------\n",
    "    None\n",
    "    \"\"\"\n",
    "    data = pd.read_csv('test.csv')\n",
    "    data['label'] = predictedLabels\n",
    "    data.to_csv(fp, index=False)"
   ]
  },
  {
   "cell_type": "code",
   "execution_count": 7,
   "metadata": {},
   "outputs": [
    {
     "name": "stdout",
     "output_type": "stream",
     "text": [
      "[8050, 8054, 8086, 8022, 7990, 7939, 7907, 7966, 8045, 7941]\n"
     ]
    },
    {
     "data": {
      "text/plain": [
       "((80000, 32, 32, 3), (80000,), (20000, 32, 32, 3), (20000,))"
      ]
     },
     "execution_count": 7,
     "metadata": {},
     "output_type": "execute_result"
    }
   ],
   "source": [
    "trainData, trainLabels = read_data(\"train\", p=1, augment=True, seed=SEED)\n",
    "testData = testLabels = np.zeros((1,1))\n",
    "if not FULL: trainData, testData, trainLabels, testLabels = train_test_split(trainData, trainLabels, test_size=0.2, random_state=SEED)\n",
    "print([sum(trainLabels == i) for i in range(10)])\n",
    "trainData.shape, trainLabels.shape, testData.shape, testLabels.shape"
   ]
  },
  {
   "cell_type": "code",
   "execution_count": 8,
   "metadata": {},
   "outputs": [
    {
     "data": {
      "text/plain": [
       "((10000, 32, 32, 3), (10000,))"
      ]
     },
     "execution_count": 8,
     "metadata": {},
     "output_type": "execute_result"
    }
   ],
   "source": [
    "predictData, predictLabels = read_data(\"predict\", p=1)\n",
    "predictData.shape, predictLabels.shape"
   ]
  },
  {
   "attachments": {},
   "cell_type": "markdown",
   "metadata": {},
   "source": [
    "## Feature Extraction"
   ]
  },
  {
   "attachments": {},
   "cell_type": "markdown",
   "metadata": {},
   "source": [
    "### Resizing (32, 32) -> (128, 128)"
   ]
  },
  {
   "cell_type": "code",
   "execution_count": 9,
   "metadata": {},
   "outputs": [],
   "source": [
    "def resize(imgs): return np.array([_resize(img, (128, 128), interpolation=INTER_CUBIC) for img in imgs])"
   ]
  },
  {
   "cell_type": "code",
   "execution_count": 10,
   "metadata": {},
   "outputs": [
    {
     "data": {
      "text/plain": [
       "((80000, 128, 128, 3), (20000, 128, 128, 3), (10000, 128, 128, 3))"
      ]
     },
     "execution_count": 10,
     "metadata": {},
     "output_type": "execute_result"
    }
   ],
   "source": [
    "trainData_large = resize(trainData)\n",
    "testData_large = resize(testData) if not FULL else np.zeros((1, 1))\n",
    "predictData_large = resize(predictData)\n",
    "trainData_large.shape, testData_large.shape, predictData_large.shape"
   ]
  },
  {
   "attachments": {},
   "cell_type": "markdown",
   "metadata": {},
   "source": [
    "### HOG Feature extraction"
   ]
  },
  {
   "cell_type": "code",
   "execution_count": 11,
   "metadata": {},
   "outputs": [
    {
     "data": {
      "text/plain": [
       "((80000, 4000), (20000, 4000), (10000, 4000))"
      ]
     },
     "execution_count": 11,
     "metadata": {},
     "output_type": "execute_result"
    }
   ],
   "source": [
    "def hog_features(data, visualize=False, type='cv2'):\n",
    "    assert type in ['sklearn', 'cv2'], \"type must be 'sklearn' or 'cv2'\"\n",
    "    if type == 'sklearn':\n",
    "        # slow + suboptimal (used on 32x32)\n",
    "        _hog_kwargs = {\n",
    "            \"block_norm\": 'L2-Hys',\n",
    "            \"orientations\": 10,\n",
    "            \"pixels_per_cell\": (4, 4),\n",
    "            \"cells_per_block\": (3, 3),\n",
    "            \"channel_axis\": -1\n",
    "        }\n",
    "        if visualize: \n",
    "            _hogs = [hog(img, **_hog_kwargs, visualize=True) for img in data]\n",
    "            _hogFeatures = np.array([_hog[0] for _hog in _hogs])\n",
    "            _hogImgs = np.array([_hog[1] for _hog in _hogs])\n",
    "            return _hogFeatures, _hogImgs\n",
    "        else:\n",
    "            return np.array([hog(img.reshape(32, 32, 3), **_hog_kwargs) for img in data])\n",
    "    else:\n",
    "        assert visualize == False, \"visualize is not supported for type='cv2'\"\n",
    "        # Following params is found to be optimal for CIFAR-10 dataset\n",
    "        _hog_kwargs = {\n",
    "            \"_winSize\": (128, 128),\n",
    "            \"_blockSize\": (64, 64),\n",
    "            \"_blockStride\": (16, 16),\n",
    "            \"_cellSize\": (16, 16),\n",
    "            \"_nbins\": 10,\n",
    "            \"_derivAperture\": 1,\n",
    "            \"_winSigma\": -1,\n",
    "            \"_histogramNormType\": 0,\n",
    "            \"_L2HysThreshold\": 0.2,\n",
    "            \"_gammaCorrection\": True,\n",
    "            \"_nlevels\": 64,\n",
    "            \"_signedGradient\": True\n",
    "        }\n",
    "        _hog = HOGDescriptor(**_hog_kwargs)\n",
    "        return np.array([_hog.compute(img) for img in data])\n",
    "\n",
    "trainData_hog = hog_features(trainData_large)\n",
    "testData_hog = hog_features(testData_large) if not FULL else np.zeros((1, 1))\n",
    "predictData_hog = hog_features(predictData_large)\n",
    "trainData_hog.shape, testData_hog.shape, predictData_hog.shape"
   ]
  },
  {
   "cell_type": "code",
   "execution_count": 12,
   "metadata": {},
   "outputs": [],
   "source": [
    "del trainData_large, testData_large, predictData_large"
   ]
  },
  {
   "attachments": {},
   "cell_type": "markdown",
   "metadata": {},
   "source": [
    "### Daisy Features"
   ]
  },
  {
   "cell_type": "code",
   "execution_count": 13,
   "metadata": {},
   "outputs": [
    {
     "data": {
      "text/plain": [
       "((80000, 504), (20000, 504), (10000, 504))"
      ]
     },
     "execution_count": 13,
     "metadata": {},
     "output_type": "execute_result"
    }
   ],
   "source": [
    "def daisy_features(data, visualize=False):\n",
    "    _daisy_kwargs = {\n",
    "        \"step\": 7,\n",
    "        \"radius\": 7,\n",
    "        \"rings\": 1,\n",
    "        \"histograms\": 6,\n",
    "        \"orientations\": 8,\n",
    "        \"normalization\": \"l2\"\n",
    "    }\n",
    "    if data.ndim == 1: data = data.reshape(1, -1)\n",
    "    data = np.array([np.dot(img[...,:3], [0.2989, 0.5870, 0.1140]) for img in data])\n",
    "    if visualize:\n",
    "        _daisyImgs = np.array([daisy(img, **_daisy_kwargs) for img in data])\n",
    "        return _daisyImgs\n",
    "    else:\n",
    "        return np.array([daisy(img, **_daisy_kwargs).flatten() for img in data])\n",
    "\n",
    "trainData_daisy = daisy_features(trainData)\n",
    "testData_daisy = daisy_features(testData) if not FULL else np.zeros((1, 1))\n",
    "predictData_daisy = daisy_features(predictData)\n",
    "trainData_daisy.shape, testData_daisy.shape, predictData_daisy.shape"
   ]
  },
  {
   "attachments": {},
   "cell_type": "markdown",
   "metadata": {},
   "source": [
    "### EOH (Edge Orientation Histograms)"
   ]
  },
  {
   "cell_type": "code",
   "execution_count": 14,
   "metadata": {},
   "outputs": [
    {
     "data": {
      "text/plain": [
       "((80000, 425), (20000, 425), (10000, 425))"
      ]
     },
     "execution_count": 14,
     "metadata": {},
     "output_type": "execute_result"
    }
   ],
   "source": [
    "def eoh(img, num_bins=9, cell_size=8):\n",
    "    sobelx = cv2.Sobel(img, cv2.CV_64F, 1, 0, ksize=3)\n",
    "    sobely = cv2.Sobel(img, cv2.CV_64F, 0, 1, ksize=3)\n",
    "    magnitude = np.sqrt(sobelx**2 + sobely**2)\n",
    "    angle = np.arctan2(sobely, sobelx)\n",
    "    angle = np.rad2deg(angle) % 360\n",
    "    num_cells_x = img.shape[1] // cell_size\n",
    "    num_cells_y = img.shape[0] // cell_size\n",
    "    histograms = []\n",
    "    for i in range(num_cells_y):\n",
    "        for j in range(num_cells_x):\n",
    "            cell_magnitude = magnitude[i * cell_size: (i + 1) * cell_size,\n",
    "                                       j * cell_size: (j + 1) * cell_size]\n",
    "            cell_angle = angle[i * cell_size: (i + 1) * cell_size,\n",
    "                               j * cell_size: (j + 1) * cell_size]\n",
    "            histogram, _ = np.histogram(cell_angle,\n",
    "                                        bins=num_bins,\n",
    "                                        range=(0, 360),\n",
    "                                        weights=cell_magnitude)\n",
    "            histograms.append(histogram)\n",
    "    _eoh = np.concatenate(histograms)\n",
    "    _eoh /= np.linalg.norm(_eoh)\n",
    "    return _eoh\n",
    "\n",
    "def eoh_features(data):\n",
    "    _eoh_kwargs = {\n",
    "        \"num_bins\": 17,\n",
    "        \"cell_size\": 6\n",
    "    }\n",
    "    if data.ndim == 1: data = data.reshape(1, -1)\n",
    "    data = np.array([np.dot(img.reshape(32, 32, 3)[...,:3], [0.2989, 0.5870, 0.1140]) for img in data])\n",
    "    return np.array([eoh(img, **_eoh_kwargs).flatten() for img in data])\n",
    "\n",
    "trainData_eoh = eoh_features(trainData)\n",
    "testData_eoh = eoh_features(testData) if not FULL else np.zeros((1, 1))\n",
    "predictData_eoh = eoh_features(predictData)\n",
    "trainData_eoh.shape, testData_eoh.shape, predictData_eoh.shape"
   ]
  },
  {
   "attachments": {},
   "cell_type": "markdown",
   "metadata": {},
   "source": [
    "### Blurring"
   ]
  },
  {
   "cell_type": "code",
   "execution_count": 15,
   "metadata": {},
   "outputs": [
    {
     "data": {
      "text/plain": [
       "((80000, 192), (20000, 192), (10000, 192))"
      ]
     },
     "execution_count": 15,
     "metadata": {},
     "output_type": "execute_result"
    }
   ],
   "source": [
    "def blur(imgs, kernelSize=4):\n",
    "    assert 32 % kernelSize == 0, \"Kernel size must be a factor of 32\"\n",
    "    if imgs.ndim == 1: return np.mean(imgs.reshape(32, 32, 3).reshape(32//kernelSize, kernelSize, 32//kernelSize, kernelSize, 3), axis=(1, 3)).reshape(32//kernelSize * 32//kernelSize * 3)/255\n",
    "    else: return np.mean(imgs.reshape(-1, 32, 32, 3).reshape(-1, 32//kernelSize, kernelSize, 32//kernelSize, kernelSize, 3), axis=(2, 4)).reshape(-1, 32//kernelSize * 32//kernelSize * 3)/255\n",
    "\n",
    "trainData_blurred4x4 = blur(trainData)\n",
    "testData_blurred4x4 = blur(testData) if not FULL else np.zeros((1, 1))\n",
    "predictData_blurred4x4 = blur(predictData)\n",
    "trainData_blurred4x4.shape, testData_blurred4x4.shape, predictData_blurred4x4.shape"
   ]
  },
  {
   "attachments": {},
   "cell_type": "markdown",
   "metadata": {},
   "source": [
    "### HOG + Daisy + EOH + Blurred"
   ]
  },
  {
   "cell_type": "code",
   "execution_count": 16,
   "metadata": {},
   "outputs": [
    {
     "data": {
      "text/plain": [
       "((80000, 5121), (20000, 5121), (10000, 5121))"
      ]
     },
     "execution_count": 16,
     "metadata": {},
     "output_type": "execute_result"
    }
   ],
   "source": [
    "trainData_hb4x4 = np.hstack([trainData_hog, trainData_daisy, trainData_eoh, trainData_blurred4x4]).astype(np.float32)\n",
    "testData_hb4x4 = np.hstack([testData_hog, testData_daisy, testData_eoh, testData_blurred4x4]).astype(np.float32) if not FULL else np.zeros((1, 1))\n",
    "predictData_hb4x4 = np.hstack([predictData_hog, predictData_daisy, predictData_eoh, predictData_blurred4x4]).astype(np.float32)\n",
    "trainData_hb4x4.shape, testData_hb4x4.shape, predictData_hb4x4.shape"
   ]
  },
  {
   "attachments": {},
   "cell_type": "markdown",
   "metadata": {},
   "source": [
    "### Normalizing"
   ]
  },
  {
   "cell_type": "code",
   "execution_count": 17,
   "metadata": {},
   "outputs": [
    {
     "data": {
      "text/plain": [
       "((80000, 5121), (20000, 5121), (10000, 5121))"
      ]
     },
     "execution_count": 17,
     "metadata": {},
     "output_type": "execute_result"
    }
   ],
   "source": [
    "def normalize(data, trainData): return (data - np.min(trainData, axis=0))/(np.max(trainData, axis=0) - np.min(trainData, axis=0))\n",
    "trainData_std_hb4x4 = normalize(trainData_hb4x4, trainData_hb4x4)\n",
    "testData_std_hb4x4 = normalize(testData_hb4x4, trainData_hb4x4) if not FULL else np.zeros((1, 1))\n",
    "predictData_std_hb4x4 = normalize(predictData_hb4x4, trainData_hb4x4)\n",
    "trainData_std_hb4x4.shape, testData_std_hb4x4.shape, predictData_std_hb4x4.shape"
   ]
  },
  {
   "attachments": {},
   "cell_type": "markdown",
   "metadata": {},
   "source": [
    "## Free some memory first"
   ]
  },
  {
   "cell_type": "code",
   "execution_count": 18,
   "metadata": {},
   "outputs": [],
   "source": [
    "del trainData_hb4x4, testData_hb4x4, predictData_hb4x4"
   ]
  },
  {
   "cell_type": "code",
   "execution_count": 19,
   "metadata": {},
   "outputs": [],
   "source": [
    "del trainData_hog, testData_hog, predictData_hog"
   ]
  },
  {
   "cell_type": "code",
   "execution_count": 20,
   "metadata": {},
   "outputs": [],
   "source": [
    "del trainData_daisy, testData_daisy, predictData_daisy, trainData_eoh, testData_eoh, predictData_eoh, trainData_blurred4x4, testData_blurred4x4, predictData_blurred4x4"
   ]
  },
  {
   "attachments": {},
   "cell_type": "markdown",
   "metadata": {},
   "source": [
    "## Using LDA to encode the data"
   ]
  },
  {
   "cell_type": "code",
   "execution_count": 21,
   "metadata": {},
   "outputs": [],
   "source": [
    "def softmax(output):\n",
    "    return np.exp(output) / np.sum(np.exp(output), axis=1).reshape(-1, 1)"
   ]
  },
  {
   "cell_type": "code",
   "execution_count": 22,
   "metadata": {},
   "outputs": [],
   "source": [
    "class LDA_encoder():\n",
    "    # KNN can be used on this\n",
    "    def __init__(self, ndim):\n",
    "        self.ndim = ndim\n",
    "        self._lda = LinearDiscriminantAnalysis(n_components=ndim)\n",
    "        self.classCenters = None\n",
    "        self.trainPoints = None\n",
    "    def fit(self, X, y):\n",
    "        self.trainPoints = self._lda.fit_transform(X, y)\n",
    "        self.classCenters = np.array([np.mean(self.trainPoints[y == i], axis=0) for i in np.unique(y)])\n",
    "    def encode(self, X, type='distance'):\n",
    "        _X = self._lda.transform(X)\n",
    "        if type == 'distance':\n",
    "            return 1/np.array([np.linalg.norm(_X - center, axis=1) for center in self.classCenters]).T\n",
    "    def predict(self, X, prob=False, type='distance'):\n",
    "        _X = self._lda.transform(X)\n",
    "        if type == 'distance':\n",
    "            if prob:\n",
    "                return softmax(1/np.array([np.linalg.norm(_X - center, axis=1) for center in self.classCenters]).T)\n",
    "            else:\n",
    "                return np.argmin(np.array([np.linalg.norm(_X - center, axis=1) for center in self.classCenters]).T, axis=1)"
   ]
  },
  {
   "cell_type": "code",
   "execution_count": 23,
   "metadata": {},
   "outputs": [],
   "source": [
    "del trainData"
   ]
  },
  {
   "cell_type": "code",
   "execution_count": 24,
   "metadata": {},
   "outputs": [],
   "source": [
    "del testData, predictData"
   ]
  },
  {
   "cell_type": "code",
   "execution_count": null,
   "metadata": {},
   "outputs": [],
   "source": [
    "lda_std_encoder = LDA_encoder(9)\n",
    "lda_std_encoder.fit(trainData_std_hb4x4, trainLabels)"
   ]
  },
  {
   "attachments": {},
   "cell_type": "markdown",
   "metadata": {},
   "source": [
    "## Training SVM model"
   ]
  },
  {
   "cell_type": "code",
   "execution_count": 24,
   "metadata": {},
   "outputs": [
    {
     "data": {
      "text/plain": [
       "((80000, 5131), (20000, 5131))"
      ]
     },
     "execution_count": 24,
     "metadata": {},
     "output_type": "execute_result"
    }
   ],
   "source": [
    "trainData_hb4x4_withEncodedDistance_std = np.hstack([trainData_std_hb4x4, lda_std_encoder.encode(trainData_std_hb4x4)])\n",
    "testData_hb4x4_withEncodedDistance_std = np.hstack([testData_std_hb4x4, lda_std_encoder.encode(testData_std_hb4x4)]) if not FULL else np.zeros((1, 1))\n",
    "predictData_hb4x4_withEncodedDistance_std = np.hstack([predictData_std_hb4x4, lda_std_encoder.encode(predictData_std_hb4x4)])\n",
    "trainData_hb4x4_withEncodedDistance_std.shape, testData_hb4x4_withEncodedDistance_std.shape"
   ]
  },
  {
   "cell_type": "code",
   "execution_count": 25,
   "metadata": {},
   "outputs": [],
   "source": [
    "del trainData_std_hb4x4, testData_std_hb4x4, predictData_std_hb4x4"
   ]
  },
  {
   "cell_type": "code",
   "execution_count": 26,
   "metadata": {},
   "outputs": [],
   "source": [
    "del lda_std_encoder"
   ]
  },
  {
   "attachments": {},
   "cell_type": "markdown",
   "metadata": {},
   "source": [
    "### Fine Tuning"
   ]
  },
  {
   "cell_type": "code",
   "execution_count": 39,
   "metadata": {},
   "outputs": [],
   "source": [
    "def computeTestAcc(p, trainData, trainLabels, testData, testLabels):\n",
    "    svm_ft = SVC(C=10**p, kernel='rbf', gamma='scale')\n",
    "    svm_ft.fit(trainData, trainLabels)\n",
    "    score = svm_ft.score(testData, testLabels)\n",
    "    del svm_ft, trainData, trainLabels, testData, testLabels\n",
    "    return score"
   ]
  },
  {
   "cell_type": "code",
   "execution_count": 40,
   "metadata": {},
   "outputs": [
    {
     "name": "stdout",
     "output_type": "stream",
     "text": [
      "Initializations, intial interval: [0.0000, 2.0000], precision: 2.0000, optimal C: 10.0000 +/- 90.0000, left: 0.6812, right: 0.6817\n",
      "Iteration 1, interval: [0.7639, 2.0000], precision: 1.2361, optimal C: 24.0972 +/- 75.9028, left: 0.6817, right: 0.6817\n",
      "Iteration 2, interval: [0.7639, 1.5279], precision: 0.7639, optimal C: 13.9926 +/- 19.7256, left: 0.6817, right: 0.6817\n",
      "Iteration 3, interval: [0.7639, 1.2361], precision: 0.4721, optimal C: 10.0000 +/- 7.2214, left: 0.6817, right: 0.6817\n",
      "Iteration 4, interval: [0.7639, 1.0557], precision: 0.2918, optimal C: 8.1251 +/- 3.2440, left: 0.6819, right: 0.6817\n",
      "Iteration 5, interval: [0.7639, 0.9443], precision: 0.1803, optimal C: 7.1466 +/- 1.6491, left: 0.6819, right: 0.6819\n",
      "Iteration 6, interval: [0.7639, 0.8754], precision: 0.1115, optimal C: 6.6018 +/- 0.9039, left: 0.6814, right: 0.6819\n"
     ]
    },
    {
     "ename": "MemoryError",
     "evalue": "std::bad_alloc: out_of_memory: CUDA error at: /__w/cuml/cuml/python/build/cp310-cp310-manylinux_2_17_x86_64/_deps/rmm-src/include/rmm/mr/device/cuda_memory_resource.hpp:60: cudaErrorMemoryAllocation out of memory",
     "output_type": "error",
     "traceback": [
      "\u001b[0;31m---------------------------------------------------------------------------\u001b[0m",
      "\u001b[0;31mMemoryError\u001b[0m                               Traceback (most recent call last)",
      "Cell \u001b[0;32mIn[40], line 23\u001b[0m\n\u001b[1;32m     21\u001b[0m     fl \u001b[38;5;241m=\u001b[39m fr\n\u001b[1;32m     22\u001b[0m     r \u001b[38;5;241m=\u001b[39m a \u001b[38;5;241m+\u001b[39m phi\u001b[38;5;241m*\u001b[39m(b\u001b[38;5;241m-\u001b[39ma)\n\u001b[0;32m---> 23\u001b[0m     fr \u001b[38;5;241m=\u001b[39m \u001b[43mcomputeTestAcc\u001b[49m\u001b[43m(\u001b[49m\u001b[43mr\u001b[49m\u001b[43m,\u001b[49m\u001b[43m \u001b[49m\u001b[43mtrainData_hb4x4_withEncodedDistance_std\u001b[49m\u001b[43m[\u001b[49m\u001b[43m:\u001b[49m\u001b[43msubset\u001b[49m\u001b[43m]\u001b[49m\u001b[43m,\u001b[49m\u001b[43m \u001b[49m\u001b[43mtrainLabels\u001b[49m\u001b[43m[\u001b[49m\u001b[43m:\u001b[49m\u001b[43msubset\u001b[49m\u001b[43m]\u001b[49m\u001b[43m,\u001b[49m\u001b[43m \u001b[49m\u001b[43mtrainData_hb4x4_withEncodedDistance_std\u001b[49m\u001b[43m[\u001b[49m\u001b[38;5;241;43m80000\u001b[39;49m\u001b[43m:\u001b[49m\u001b[43m]\u001b[49m\u001b[43m,\u001b[49m\u001b[43m \u001b[49m\u001b[43mtrainLabels\u001b[49m\u001b[43m[\u001b[49m\u001b[38;5;241;43m80000\u001b[39;49m\u001b[43m:\u001b[49m\u001b[43m]\u001b[49m\u001b[43m)\u001b[49m\n\u001b[1;32m     24\u001b[0m \u001b[38;5;28;01melse\u001b[39;00m:\n\u001b[1;32m     25\u001b[0m     b \u001b[38;5;241m=\u001b[39m r\n",
      "Cell \u001b[0;32mIn[39], line 3\u001b[0m, in \u001b[0;36mcomputeTestAcc\u001b[0;34m(p, trainData, trainLabels, testData, testLabels)\u001b[0m\n\u001b[1;32m      1\u001b[0m \u001b[38;5;28;01mdef\u001b[39;00m \u001b[38;5;21mcomputeTestAcc\u001b[39m(p, trainData, trainLabels, testData, testLabels):\n\u001b[1;32m      2\u001b[0m     svm_ft \u001b[38;5;241m=\u001b[39m cuSVC(C\u001b[38;5;241m=\u001b[39m\u001b[38;5;241m10\u001b[39m\u001b[38;5;241m*\u001b[39m\u001b[38;5;241m*\u001b[39mp, kernel\u001b[38;5;241m=\u001b[39m\u001b[38;5;124m'\u001b[39m\u001b[38;5;124mrbf\u001b[39m\u001b[38;5;124m'\u001b[39m, gamma\u001b[38;5;241m=\u001b[39m\u001b[38;5;124m'\u001b[39m\u001b[38;5;124mscale\u001b[39m\u001b[38;5;124m'\u001b[39m)\n\u001b[0;32m----> 3\u001b[0m     \u001b[43msvm_ft\u001b[49m\u001b[38;5;241;43m.\u001b[39;49m\u001b[43mfit\u001b[49m\u001b[43m(\u001b[49m\u001b[43mtrainData\u001b[49m\u001b[43m,\u001b[49m\u001b[43m \u001b[49m\u001b[43mtrainLabels\u001b[49m\u001b[43m)\u001b[49m\n\u001b[1;32m      4\u001b[0m     score \u001b[38;5;241m=\u001b[39m svm_ft\u001b[38;5;241m.\u001b[39mscore(testData, testLabels)\n\u001b[1;32m      5\u001b[0m     \u001b[38;5;28;01mdel\u001b[39;00m svm_ft\n",
      "File \u001b[0;32m~/anaconda3/lib/python3.10/site-packages/cuml/internals/api_decorators.py:188\u001b[0m, in \u001b[0;36m_make_decorator_function.<locals>.decorator_function.<locals>.decorator_closure.<locals>.wrapper\u001b[0;34m(*args, **kwargs)\u001b[0m\n\u001b[1;32m    185\u001b[0m     set_api_output_dtype(output_dtype)\n\u001b[1;32m    187\u001b[0m \u001b[38;5;28;01mif\u001b[39;00m process_return:\n\u001b[0;32m--> 188\u001b[0m     ret \u001b[38;5;241m=\u001b[39m \u001b[43mfunc\u001b[49m\u001b[43m(\u001b[49m\u001b[38;5;241;43m*\u001b[39;49m\u001b[43margs\u001b[49m\u001b[43m,\u001b[49m\u001b[43m \u001b[49m\u001b[38;5;241;43m*\u001b[39;49m\u001b[38;5;241;43m*\u001b[39;49m\u001b[43mkwargs\u001b[49m\u001b[43m)\u001b[49m\n\u001b[1;32m    189\u001b[0m \u001b[38;5;28;01melse\u001b[39;00m:\n\u001b[1;32m    190\u001b[0m     \u001b[38;5;28;01mreturn\u001b[39;00m func(\u001b[38;5;241m*\u001b[39margs, \u001b[38;5;241m*\u001b[39m\u001b[38;5;241m*\u001b[39mkwargs)\n",
      "File \u001b[0;32msvc.pyx:486\u001b[0m, in \u001b[0;36mcuml.svm.svc.SVC.fit\u001b[0;34m()\u001b[0m\n",
      "File \u001b[0;32m~/anaconda3/lib/python3.10/site-packages/cuml/internals/api_decorators.py:188\u001b[0m, in \u001b[0;36m_make_decorator_function.<locals>.decorator_function.<locals>.decorator_closure.<locals>.wrapper\u001b[0;34m(*args, **kwargs)\u001b[0m\n\u001b[1;32m    185\u001b[0m     set_api_output_dtype(output_dtype)\n\u001b[1;32m    187\u001b[0m \u001b[38;5;28;01mif\u001b[39;00m process_return:\n\u001b[0;32m--> 188\u001b[0m     ret \u001b[38;5;241m=\u001b[39m \u001b[43mfunc\u001b[49m\u001b[43m(\u001b[49m\u001b[38;5;241;43m*\u001b[39;49m\u001b[43margs\u001b[49m\u001b[43m,\u001b[49m\u001b[43m \u001b[49m\u001b[38;5;241;43m*\u001b[39;49m\u001b[38;5;241;43m*\u001b[39;49m\u001b[43mkwargs\u001b[49m\u001b[43m)\u001b[49m\n\u001b[1;32m    189\u001b[0m \u001b[38;5;28;01melse\u001b[39;00m:\n\u001b[1;32m    190\u001b[0m     \u001b[38;5;28;01mreturn\u001b[39;00m func(\u001b[38;5;241m*\u001b[39margs, \u001b[38;5;241m*\u001b[39m\u001b[38;5;241m*\u001b[39mkwargs)\n",
      "File \u001b[0;32msvc.pyx:418\u001b[0m, in \u001b[0;36mcuml.svm.svc.SVC._fit_multiclass\u001b[0;34m()\u001b[0m\n",
      "File \u001b[0;32m~/anaconda3/lib/python3.10/site-packages/cuml/internals/api_decorators.py:188\u001b[0m, in \u001b[0;36m_make_decorator_function.<locals>.decorator_function.<locals>.decorator_closure.<locals>.wrapper\u001b[0;34m(*args, **kwargs)\u001b[0m\n\u001b[1;32m    185\u001b[0m     set_api_output_dtype(output_dtype)\n\u001b[1;32m    187\u001b[0m \u001b[38;5;28;01mif\u001b[39;00m process_return:\n\u001b[0;32m--> 188\u001b[0m     ret \u001b[38;5;241m=\u001b[39m \u001b[43mfunc\u001b[49m\u001b[43m(\u001b[49m\u001b[38;5;241;43m*\u001b[39;49m\u001b[43margs\u001b[49m\u001b[43m,\u001b[49m\u001b[43m \u001b[49m\u001b[38;5;241;43m*\u001b[39;49m\u001b[38;5;241;43m*\u001b[39;49m\u001b[43mkwargs\u001b[49m\u001b[43m)\u001b[49m\n\u001b[1;32m    189\u001b[0m \u001b[38;5;28;01melse\u001b[39;00m:\n\u001b[1;32m    190\u001b[0m     \u001b[38;5;28;01mreturn\u001b[39;00m func(\u001b[38;5;241m*\u001b[39margs, \u001b[38;5;241m*\u001b[39m\u001b[38;5;241m*\u001b[39mkwargs)\n",
      "File \u001b[0;32m~/anaconda3/lib/python3.10/site-packages/cuml/multiclass/multiclass.py:158\u001b[0m, in \u001b[0;36mMulticlassClassifier.fit\u001b[0;34m(self, X, y)\u001b[0m\n\u001b[1;32m    156\u001b[0m y \u001b[38;5;241m=\u001b[39m input_to_host_array(y)\u001b[38;5;241m.\u001b[39marray\n\u001b[1;32m    157\u001b[0m \u001b[38;5;28;01mwith\u001b[39;00m cuml\u001b[38;5;241m.\u001b[39minternals\u001b[38;5;241m.\u001b[39mexit_internal_api():\n\u001b[0;32m--> 158\u001b[0m     \u001b[38;5;28;43mself\u001b[39;49m\u001b[38;5;241;43m.\u001b[39;49m\u001b[43mmulticlass_estimator\u001b[49m\u001b[38;5;241;43m.\u001b[39;49m\u001b[43mfit\u001b[49m\u001b[43m(\u001b[49m\u001b[43mX\u001b[49m\u001b[43m,\u001b[49m\u001b[43m \u001b[49m\u001b[43my\u001b[49m\u001b[43m)\u001b[49m\n\u001b[1;32m    159\u001b[0m     \u001b[38;5;28;01mreturn\u001b[39;00m \u001b[38;5;28mself\u001b[39m\n",
      "File \u001b[0;32m~/anaconda3/lib/python3.10/site-packages/sklearn/multiclass.py:690\u001b[0m, in \u001b[0;36mOneVsOneClassifier.fit\u001b[0;34m(self, X, y)\u001b[0m\n\u001b[1;32m    683\u001b[0m     \u001b[38;5;28;01mraise\u001b[39;00m \u001b[38;5;167;01mValueError\u001b[39;00m(\n\u001b[1;32m    684\u001b[0m         \u001b[38;5;124m\"\u001b[39m\u001b[38;5;124mOneVsOneClassifier can not be fit when only one class is present.\u001b[39m\u001b[38;5;124m\"\u001b[39m\n\u001b[1;32m    685\u001b[0m     )\n\u001b[1;32m    686\u001b[0m n_classes \u001b[38;5;241m=\u001b[39m \u001b[38;5;28mself\u001b[39m\u001b[38;5;241m.\u001b[39mclasses_\u001b[38;5;241m.\u001b[39mshape[\u001b[38;5;241m0\u001b[39m]\n\u001b[1;32m    687\u001b[0m estimators_indices \u001b[38;5;241m=\u001b[39m \u001b[38;5;28mlist\u001b[39m(\n\u001b[1;32m    688\u001b[0m     \u001b[38;5;28mzip\u001b[39m(\n\u001b[1;32m    689\u001b[0m         \u001b[38;5;241m*\u001b[39m(\n\u001b[0;32m--> 690\u001b[0m             \u001b[43mParallel\u001b[49m\u001b[43m(\u001b[49m\u001b[43mn_jobs\u001b[49m\u001b[38;5;241;43m=\u001b[39;49m\u001b[38;5;28;43mself\u001b[39;49m\u001b[38;5;241;43m.\u001b[39;49m\u001b[43mn_jobs\u001b[49m\u001b[43m)\u001b[49m\u001b[43m(\u001b[49m\n\u001b[1;32m    691\u001b[0m \u001b[43m                \u001b[49m\u001b[43mdelayed\u001b[49m\u001b[43m(\u001b[49m\u001b[43m_fit_ovo_binary\u001b[49m\u001b[43m)\u001b[49m\u001b[43m(\u001b[49m\n\u001b[1;32m    692\u001b[0m \u001b[43m                    \u001b[49m\u001b[38;5;28;43mself\u001b[39;49m\u001b[38;5;241;43m.\u001b[39;49m\u001b[43mestimator\u001b[49m\u001b[43m,\u001b[49m\u001b[43m \u001b[49m\u001b[43mX\u001b[49m\u001b[43m,\u001b[49m\u001b[43m \u001b[49m\u001b[43my\u001b[49m\u001b[43m,\u001b[49m\u001b[43m \u001b[49m\u001b[38;5;28;43mself\u001b[39;49m\u001b[38;5;241;43m.\u001b[39;49m\u001b[43mclasses_\u001b[49m\u001b[43m[\u001b[49m\u001b[43mi\u001b[49m\u001b[43m]\u001b[49m\u001b[43m,\u001b[49m\u001b[43m \u001b[49m\u001b[38;5;28;43mself\u001b[39;49m\u001b[38;5;241;43m.\u001b[39;49m\u001b[43mclasses_\u001b[49m\u001b[43m[\u001b[49m\u001b[43mj\u001b[49m\u001b[43m]\u001b[49m\n\u001b[1;32m    693\u001b[0m \u001b[43m                \u001b[49m\u001b[43m)\u001b[49m\n\u001b[1;32m    694\u001b[0m \u001b[43m                \u001b[49m\u001b[38;5;28;43;01mfor\u001b[39;49;00m\u001b[43m \u001b[49m\u001b[43mi\u001b[49m\u001b[43m \u001b[49m\u001b[38;5;129;43;01min\u001b[39;49;00m\u001b[43m \u001b[49m\u001b[38;5;28;43mrange\u001b[39;49m\u001b[43m(\u001b[49m\u001b[43mn_classes\u001b[49m\u001b[43m)\u001b[49m\n\u001b[1;32m    695\u001b[0m \u001b[43m                \u001b[49m\u001b[38;5;28;43;01mfor\u001b[39;49;00m\u001b[43m \u001b[49m\u001b[43mj\u001b[49m\u001b[43m \u001b[49m\u001b[38;5;129;43;01min\u001b[39;49;00m\u001b[43m \u001b[49m\u001b[38;5;28;43mrange\u001b[39;49m\u001b[43m(\u001b[49m\u001b[43mi\u001b[49m\u001b[43m \u001b[49m\u001b[38;5;241;43m+\u001b[39;49m\u001b[43m \u001b[49m\u001b[38;5;241;43m1\u001b[39;49m\u001b[43m,\u001b[49m\u001b[43m \u001b[49m\u001b[43mn_classes\u001b[49m\u001b[43m)\u001b[49m\n\u001b[1;32m    696\u001b[0m \u001b[43m            \u001b[49m\u001b[43m)\u001b[49m\n\u001b[1;32m    697\u001b[0m         )\n\u001b[1;32m    698\u001b[0m     )\n\u001b[1;32m    699\u001b[0m )\n\u001b[1;32m    701\u001b[0m \u001b[38;5;28mself\u001b[39m\u001b[38;5;241m.\u001b[39mestimators_ \u001b[38;5;241m=\u001b[39m estimators_indices[\u001b[38;5;241m0\u001b[39m]\n\u001b[1;32m    703\u001b[0m pairwise \u001b[38;5;241m=\u001b[39m \u001b[38;5;28mself\u001b[39m\u001b[38;5;241m.\u001b[39m_get_tags()[\u001b[38;5;124m\"\u001b[39m\u001b[38;5;124mpairwise\u001b[39m\u001b[38;5;124m\"\u001b[39m]\n",
      "File \u001b[0;32m~/anaconda3/lib/python3.10/site-packages/sklearn/utils/parallel.py:63\u001b[0m, in \u001b[0;36mParallel.__call__\u001b[0;34m(self, iterable)\u001b[0m\n\u001b[1;32m     58\u001b[0m config \u001b[38;5;241m=\u001b[39m get_config()\n\u001b[1;32m     59\u001b[0m iterable_with_config \u001b[38;5;241m=\u001b[39m (\n\u001b[1;32m     60\u001b[0m     (_with_config(delayed_func, config), args, kwargs)\n\u001b[1;32m     61\u001b[0m     \u001b[38;5;28;01mfor\u001b[39;00m delayed_func, args, kwargs \u001b[38;5;129;01min\u001b[39;00m iterable\n\u001b[1;32m     62\u001b[0m )\n\u001b[0;32m---> 63\u001b[0m \u001b[38;5;28;01mreturn\u001b[39;00m \u001b[38;5;28;43msuper\u001b[39;49m\u001b[43m(\u001b[49m\u001b[43m)\u001b[49m\u001b[38;5;241;43m.\u001b[39;49m\u001b[38;5;21;43m__call__\u001b[39;49m\u001b[43m(\u001b[49m\u001b[43miterable_with_config\u001b[49m\u001b[43m)\u001b[49m\n",
      "File \u001b[0;32m~/anaconda3/lib/python3.10/site-packages/joblib/parallel.py:1051\u001b[0m, in \u001b[0;36mParallel.__call__\u001b[0;34m(self, iterable)\u001b[0m\n\u001b[1;32m   1048\u001b[0m \u001b[38;5;28;01mif\u001b[39;00m \u001b[38;5;28mself\u001b[39m\u001b[38;5;241m.\u001b[39mdispatch_one_batch(iterator):\n\u001b[1;32m   1049\u001b[0m     \u001b[38;5;28mself\u001b[39m\u001b[38;5;241m.\u001b[39m_iterating \u001b[38;5;241m=\u001b[39m \u001b[38;5;28mself\u001b[39m\u001b[38;5;241m.\u001b[39m_original_iterator \u001b[38;5;129;01mis\u001b[39;00m \u001b[38;5;129;01mnot\u001b[39;00m \u001b[38;5;28;01mNone\u001b[39;00m\n\u001b[0;32m-> 1051\u001b[0m \u001b[38;5;28;01mwhile\u001b[39;00m \u001b[38;5;28;43mself\u001b[39;49m\u001b[38;5;241;43m.\u001b[39;49m\u001b[43mdispatch_one_batch\u001b[49m\u001b[43m(\u001b[49m\u001b[43miterator\u001b[49m\u001b[43m)\u001b[49m:\n\u001b[1;32m   1052\u001b[0m     \u001b[38;5;28;01mpass\u001b[39;00m\n\u001b[1;32m   1054\u001b[0m \u001b[38;5;28;01mif\u001b[39;00m pre_dispatch \u001b[38;5;241m==\u001b[39m \u001b[38;5;124m\"\u001b[39m\u001b[38;5;124mall\u001b[39m\u001b[38;5;124m\"\u001b[39m \u001b[38;5;129;01mor\u001b[39;00m n_jobs \u001b[38;5;241m==\u001b[39m \u001b[38;5;241m1\u001b[39m:\n\u001b[1;32m   1055\u001b[0m     \u001b[38;5;66;03m# The iterable was consumed all at once by the above for loop.\u001b[39;00m\n\u001b[1;32m   1056\u001b[0m     \u001b[38;5;66;03m# No need to wait for async callbacks to trigger to\u001b[39;00m\n\u001b[1;32m   1057\u001b[0m     \u001b[38;5;66;03m# consumption.\u001b[39;00m\n",
      "File \u001b[0;32m~/anaconda3/lib/python3.10/site-packages/joblib/parallel.py:864\u001b[0m, in \u001b[0;36mParallel.dispatch_one_batch\u001b[0;34m(self, iterator)\u001b[0m\n\u001b[1;32m    862\u001b[0m     \u001b[38;5;28;01mreturn\u001b[39;00m \u001b[38;5;28;01mFalse\u001b[39;00m\n\u001b[1;32m    863\u001b[0m \u001b[38;5;28;01melse\u001b[39;00m:\n\u001b[0;32m--> 864\u001b[0m     \u001b[38;5;28;43mself\u001b[39;49m\u001b[38;5;241;43m.\u001b[39;49m\u001b[43m_dispatch\u001b[49m\u001b[43m(\u001b[49m\u001b[43mtasks\u001b[49m\u001b[43m)\u001b[49m\n\u001b[1;32m    865\u001b[0m     \u001b[38;5;28;01mreturn\u001b[39;00m \u001b[38;5;28;01mTrue\u001b[39;00m\n",
      "File \u001b[0;32m~/anaconda3/lib/python3.10/site-packages/joblib/parallel.py:782\u001b[0m, in \u001b[0;36mParallel._dispatch\u001b[0;34m(self, batch)\u001b[0m\n\u001b[1;32m    780\u001b[0m \u001b[38;5;28;01mwith\u001b[39;00m \u001b[38;5;28mself\u001b[39m\u001b[38;5;241m.\u001b[39m_lock:\n\u001b[1;32m    781\u001b[0m     job_idx \u001b[38;5;241m=\u001b[39m \u001b[38;5;28mlen\u001b[39m(\u001b[38;5;28mself\u001b[39m\u001b[38;5;241m.\u001b[39m_jobs)\n\u001b[0;32m--> 782\u001b[0m     job \u001b[38;5;241m=\u001b[39m \u001b[38;5;28;43mself\u001b[39;49m\u001b[38;5;241;43m.\u001b[39;49m\u001b[43m_backend\u001b[49m\u001b[38;5;241;43m.\u001b[39;49m\u001b[43mapply_async\u001b[49m\u001b[43m(\u001b[49m\u001b[43mbatch\u001b[49m\u001b[43m,\u001b[49m\u001b[43m \u001b[49m\u001b[43mcallback\u001b[49m\u001b[38;5;241;43m=\u001b[39;49m\u001b[43mcb\u001b[49m\u001b[43m)\u001b[49m\n\u001b[1;32m    783\u001b[0m     \u001b[38;5;66;03m# A job can complete so quickly than its callback is\u001b[39;00m\n\u001b[1;32m    784\u001b[0m     \u001b[38;5;66;03m# called before we get here, causing self._jobs to\u001b[39;00m\n\u001b[1;32m    785\u001b[0m     \u001b[38;5;66;03m# grow. To ensure correct results ordering, .insert is\u001b[39;00m\n\u001b[1;32m    786\u001b[0m     \u001b[38;5;66;03m# used (rather than .append) in the following line\u001b[39;00m\n\u001b[1;32m    787\u001b[0m     \u001b[38;5;28mself\u001b[39m\u001b[38;5;241m.\u001b[39m_jobs\u001b[38;5;241m.\u001b[39minsert(job_idx, job)\n",
      "File \u001b[0;32m~/anaconda3/lib/python3.10/site-packages/joblib/_parallel_backends.py:208\u001b[0m, in \u001b[0;36mSequentialBackend.apply_async\u001b[0;34m(self, func, callback)\u001b[0m\n\u001b[1;32m    206\u001b[0m \u001b[38;5;28;01mdef\u001b[39;00m \u001b[38;5;21mapply_async\u001b[39m(\u001b[38;5;28mself\u001b[39m, func, callback\u001b[38;5;241m=\u001b[39m\u001b[38;5;28;01mNone\u001b[39;00m):\n\u001b[1;32m    207\u001b[0m \u001b[38;5;250m    \u001b[39m\u001b[38;5;124;03m\"\"\"Schedule a func to be run\"\"\"\u001b[39;00m\n\u001b[0;32m--> 208\u001b[0m     result \u001b[38;5;241m=\u001b[39m \u001b[43mImmediateResult\u001b[49m\u001b[43m(\u001b[49m\u001b[43mfunc\u001b[49m\u001b[43m)\u001b[49m\n\u001b[1;32m    209\u001b[0m     \u001b[38;5;28;01mif\u001b[39;00m callback:\n\u001b[1;32m    210\u001b[0m         callback(result)\n",
      "File \u001b[0;32m~/anaconda3/lib/python3.10/site-packages/joblib/_parallel_backends.py:572\u001b[0m, in \u001b[0;36mImmediateResult.__init__\u001b[0;34m(self, batch)\u001b[0m\n\u001b[1;32m    569\u001b[0m \u001b[38;5;28;01mdef\u001b[39;00m \u001b[38;5;21m__init__\u001b[39m(\u001b[38;5;28mself\u001b[39m, batch):\n\u001b[1;32m    570\u001b[0m     \u001b[38;5;66;03m# Don't delay the application, to avoid keeping the input\u001b[39;00m\n\u001b[1;32m    571\u001b[0m     \u001b[38;5;66;03m# arguments in memory\u001b[39;00m\n\u001b[0;32m--> 572\u001b[0m     \u001b[38;5;28mself\u001b[39m\u001b[38;5;241m.\u001b[39mresults \u001b[38;5;241m=\u001b[39m \u001b[43mbatch\u001b[49m\u001b[43m(\u001b[49m\u001b[43m)\u001b[49m\n",
      "File \u001b[0;32m~/anaconda3/lib/python3.10/site-packages/joblib/parallel.py:263\u001b[0m, in \u001b[0;36mBatchedCalls.__call__\u001b[0;34m(self)\u001b[0m\n\u001b[1;32m    259\u001b[0m \u001b[38;5;28;01mdef\u001b[39;00m \u001b[38;5;21m__call__\u001b[39m(\u001b[38;5;28mself\u001b[39m):\n\u001b[1;32m    260\u001b[0m     \u001b[38;5;66;03m# Set the default nested backend to self._backend but do not set the\u001b[39;00m\n\u001b[1;32m    261\u001b[0m     \u001b[38;5;66;03m# change the default number of processes to -1\u001b[39;00m\n\u001b[1;32m    262\u001b[0m     \u001b[38;5;28;01mwith\u001b[39;00m parallel_backend(\u001b[38;5;28mself\u001b[39m\u001b[38;5;241m.\u001b[39m_backend, n_jobs\u001b[38;5;241m=\u001b[39m\u001b[38;5;28mself\u001b[39m\u001b[38;5;241m.\u001b[39m_n_jobs):\n\u001b[0;32m--> 263\u001b[0m         \u001b[38;5;28;01mreturn\u001b[39;00m [func(\u001b[38;5;241m*\u001b[39margs, \u001b[38;5;241m*\u001b[39m\u001b[38;5;241m*\u001b[39mkwargs)\n\u001b[1;32m    264\u001b[0m                 \u001b[38;5;28;01mfor\u001b[39;00m func, args, kwargs \u001b[38;5;129;01min\u001b[39;00m \u001b[38;5;28mself\u001b[39m\u001b[38;5;241m.\u001b[39mitems]\n",
      "File \u001b[0;32m~/anaconda3/lib/python3.10/site-packages/joblib/parallel.py:263\u001b[0m, in \u001b[0;36m<listcomp>\u001b[0;34m(.0)\u001b[0m\n\u001b[1;32m    259\u001b[0m \u001b[38;5;28;01mdef\u001b[39;00m \u001b[38;5;21m__call__\u001b[39m(\u001b[38;5;28mself\u001b[39m):\n\u001b[1;32m    260\u001b[0m     \u001b[38;5;66;03m# Set the default nested backend to self._backend but do not set the\u001b[39;00m\n\u001b[1;32m    261\u001b[0m     \u001b[38;5;66;03m# change the default number of processes to -1\u001b[39;00m\n\u001b[1;32m    262\u001b[0m     \u001b[38;5;28;01mwith\u001b[39;00m parallel_backend(\u001b[38;5;28mself\u001b[39m\u001b[38;5;241m.\u001b[39m_backend, n_jobs\u001b[38;5;241m=\u001b[39m\u001b[38;5;28mself\u001b[39m\u001b[38;5;241m.\u001b[39m_n_jobs):\n\u001b[0;32m--> 263\u001b[0m         \u001b[38;5;28;01mreturn\u001b[39;00m [\u001b[43mfunc\u001b[49m\u001b[43m(\u001b[49m\u001b[38;5;241;43m*\u001b[39;49m\u001b[43margs\u001b[49m\u001b[43m,\u001b[49m\u001b[43m \u001b[49m\u001b[38;5;241;43m*\u001b[39;49m\u001b[38;5;241;43m*\u001b[39;49m\u001b[43mkwargs\u001b[49m\u001b[43m)\u001b[49m\n\u001b[1;32m    264\u001b[0m                 \u001b[38;5;28;01mfor\u001b[39;00m func, args, kwargs \u001b[38;5;129;01min\u001b[39;00m \u001b[38;5;28mself\u001b[39m\u001b[38;5;241m.\u001b[39mitems]\n",
      "File \u001b[0;32m~/anaconda3/lib/python3.10/site-packages/sklearn/utils/parallel.py:123\u001b[0m, in \u001b[0;36m_FuncWrapper.__call__\u001b[0;34m(self, *args, **kwargs)\u001b[0m\n\u001b[1;32m    121\u001b[0m     config \u001b[38;5;241m=\u001b[39m {}\n\u001b[1;32m    122\u001b[0m \u001b[38;5;28;01mwith\u001b[39;00m config_context(\u001b[38;5;241m*\u001b[39m\u001b[38;5;241m*\u001b[39mconfig):\n\u001b[0;32m--> 123\u001b[0m     \u001b[38;5;28;01mreturn\u001b[39;00m \u001b[38;5;28;43mself\u001b[39;49m\u001b[38;5;241;43m.\u001b[39;49m\u001b[43mfunction\u001b[49m\u001b[43m(\u001b[49m\u001b[38;5;241;43m*\u001b[39;49m\u001b[43margs\u001b[49m\u001b[43m,\u001b[49m\u001b[43m \u001b[49m\u001b[38;5;241;43m*\u001b[39;49m\u001b[38;5;241;43m*\u001b[39;49m\u001b[43mkwargs\u001b[49m\u001b[43m)\u001b[49m\n",
      "File \u001b[0;32m~/anaconda3/lib/python3.10/site-packages/sklearn/multiclass.py:549\u001b[0m, in \u001b[0;36m_fit_ovo_binary\u001b[0;34m(estimator, X, y, i, j)\u001b[0m\n\u001b[1;32m    546\u001b[0m y_binary[y \u001b[38;5;241m==\u001b[39m j] \u001b[38;5;241m=\u001b[39m \u001b[38;5;241m1\u001b[39m\n\u001b[1;32m    547\u001b[0m indcond \u001b[38;5;241m=\u001b[39m np\u001b[38;5;241m.\u001b[39marange(_num_samples(X))[cond]\n\u001b[1;32m    548\u001b[0m \u001b[38;5;28;01mreturn\u001b[39;00m (\n\u001b[0;32m--> 549\u001b[0m     \u001b[43m_fit_binary\u001b[49m\u001b[43m(\u001b[49m\n\u001b[1;32m    550\u001b[0m \u001b[43m        \u001b[49m\u001b[43mestimator\u001b[49m\u001b[43m,\u001b[49m\n\u001b[1;32m    551\u001b[0m \u001b[43m        \u001b[49m\u001b[43m_safe_split\u001b[49m\u001b[43m(\u001b[49m\u001b[43mestimator\u001b[49m\u001b[43m,\u001b[49m\u001b[43m \u001b[49m\u001b[43mX\u001b[49m\u001b[43m,\u001b[49m\u001b[43m \u001b[49m\u001b[38;5;28;43;01mNone\u001b[39;49;00m\u001b[43m,\u001b[49m\u001b[43m \u001b[49m\u001b[43mindices\u001b[49m\u001b[38;5;241;43m=\u001b[39;49m\u001b[43mindcond\u001b[49m\u001b[43m)\u001b[49m\u001b[43m[\u001b[49m\u001b[38;5;241;43m0\u001b[39;49m\u001b[43m]\u001b[49m\u001b[43m,\u001b[49m\n\u001b[1;32m    552\u001b[0m \u001b[43m        \u001b[49m\u001b[43my_binary\u001b[49m\u001b[43m,\u001b[49m\n\u001b[1;32m    553\u001b[0m \u001b[43m        \u001b[49m\u001b[43mclasses\u001b[49m\u001b[38;5;241;43m=\u001b[39;49m\u001b[43m[\u001b[49m\u001b[43mi\u001b[49m\u001b[43m,\u001b[49m\u001b[43m \u001b[49m\u001b[43mj\u001b[49m\u001b[43m]\u001b[49m\u001b[43m,\u001b[49m\n\u001b[1;32m    554\u001b[0m \u001b[43m    \u001b[49m\u001b[43m)\u001b[49m,\n\u001b[1;32m    555\u001b[0m     indcond,\n\u001b[1;32m    556\u001b[0m )\n",
      "File \u001b[0;32m~/anaconda3/lib/python3.10/site-packages/sklearn/multiclass.py:83\u001b[0m, in \u001b[0;36m_fit_binary\u001b[0;34m(estimator, X, y, classes)\u001b[0m\n\u001b[1;32m     81\u001b[0m \u001b[38;5;28;01melse\u001b[39;00m:\n\u001b[1;32m     82\u001b[0m     estimator \u001b[38;5;241m=\u001b[39m clone(estimator)\n\u001b[0;32m---> 83\u001b[0m     \u001b[43mestimator\u001b[49m\u001b[38;5;241;43m.\u001b[39;49m\u001b[43mfit\u001b[49m\u001b[43m(\u001b[49m\u001b[43mX\u001b[49m\u001b[43m,\u001b[49m\u001b[43m \u001b[49m\u001b[43my\u001b[49m\u001b[43m)\u001b[49m\n\u001b[1;32m     84\u001b[0m \u001b[38;5;28;01mreturn\u001b[39;00m estimator\n",
      "File \u001b[0;32m~/anaconda3/lib/python3.10/site-packages/cuml/internals/api_decorators.py:188\u001b[0m, in \u001b[0;36m_make_decorator_function.<locals>.decorator_function.<locals>.decorator_closure.<locals>.wrapper\u001b[0;34m(*args, **kwargs)\u001b[0m\n\u001b[1;32m    185\u001b[0m     set_api_output_dtype(output_dtype)\n\u001b[1;32m    187\u001b[0m \u001b[38;5;28;01mif\u001b[39;00m process_return:\n\u001b[0;32m--> 188\u001b[0m     ret \u001b[38;5;241m=\u001b[39m \u001b[43mfunc\u001b[49m\u001b[43m(\u001b[49m\u001b[38;5;241;43m*\u001b[39;49m\u001b[43margs\u001b[49m\u001b[43m,\u001b[49m\u001b[43m \u001b[49m\u001b[38;5;241;43m*\u001b[39;49m\u001b[38;5;241;43m*\u001b[39;49m\u001b[43mkwargs\u001b[49m\u001b[43m)\u001b[49m\n\u001b[1;32m    189\u001b[0m \u001b[38;5;28;01melse\u001b[39;00m:\n\u001b[1;32m    190\u001b[0m     \u001b[38;5;28;01mreturn\u001b[39;00m func(\u001b[38;5;241m*\u001b[39margs, \u001b[38;5;241m*\u001b[39m\u001b[38;5;241m*\u001b[39mkwargs)\n",
      "File \u001b[0;32msvc.pyx:561\u001b[0m, in \u001b[0;36mcuml.svm.svc.SVC.fit\u001b[0;34m()\u001b[0m\n",
      "File \u001b[0;32msvc.pyx:563\u001b[0m, in \u001b[0;36mcuml.svm.svc.SVC.fit\u001b[0;34m()\u001b[0m\n",
      "\u001b[0;31mMemoryError\u001b[0m: std::bad_alloc: out_of_memory: CUDA error at: /__w/cuml/cuml/python/build/cp310-cp310-manylinux_2_17_x86_64/_deps/rmm-src/include/rmm/mr/device/cuda_memory_resource.hpp:60: cudaErrorMemoryAllocation out of memory"
     ]
    }
   ],
   "source": [
    "# Feel free to tune, found C=7 (approximately) to be the best\n",
    "# No need to execute this cell\n",
    "\n",
    "## We have not finished execution due to a crash, thus we provide the partially ran ouput\n",
    "## And we cannot re-run due to the time limitations, however this is tested on a RTX 4090 and we can confire it does not output any bugs\n",
    "\n",
    "a, b = 0, 2\n",
    "precision = 0.1\n",
    "phi = (np.sqrt(5)-1)/2\n",
    "subset = 10000\n",
    "\n",
    "l = a + (1-phi)*(b-a)\n",
    "r = a + phi*(b-a)\n",
    "fl = computeTestAcc(l, trainData_hb4x4_withEncodedDistance_std[:subset], trainLabels[:subset], trainData_hb4x4_withEncodedDistance_std[80000:], trainLabels[80000:])\n",
    "fr = computeTestAcc(r, trainData_hb4x4_withEncodedDistance_std[:subset], trainLabels[:subset], trainData_hb4x4_withEncodedDistance_std[80000:], trainLabels[80000:])\n",
    "\n",
    "iter = 0\n",
    "\n",
    "print(f\"Initializations, intial interval: [{a:.4f}, {b:.4f}], precision: {b-a:.4f}, optimal C: {10**((b+a)/2):.4f} +/- {10**b-10**((b+a)/2):.4f}, left: {fl:.4f}, right: {fr:.4f}\")\n",
    "\n",
    "while b - a > precision:\n",
    "    if fl < fr:\n",
    "        a = l\n",
    "        l = r\n",
    "        fl = fr\n",
    "        r = a + phi*(b-a)\n",
    "        fr = computeTestAcc(r, trainData_hb4x4_withEncodedDistance_std[:subset], trainLabels[:subset], trainData_hb4x4_withEncodedDistance_std[80000:], trainLabels[80000:])\n",
    "    else:\n",
    "        b = r\n",
    "        r = l\n",
    "        fr = fl\n",
    "        l = a + (1-phi)*(b-a)\n",
    "        fl = computeTestAcc(l, trainData_hb4x4_withEncodedDistance_std[:subset], trainLabels[:subset], trainData_hb4x4_withEncodedDistance_std[80000:], trainLabels[80000:])\n",
    "    iter += 1\n",
    "    print(f\"Iteration {iter}, interval: [{a:.4f}, {b:.4f}], precision: {b-a:.4f}, optimal C: {10**((b+a)/2):.4f} +/- {10**b-10**((b+a)/2):.4f}, left: {fl:.4f}, right: {fr:.4f}\")\n",
    "\n",
    "optimalC = 10**((b+a)/2)\n",
    "print(f\"Optimal C: {optimalC:.4f} +/- {10**b-optimalC:.4f}\")"
   ]
  },
  {
   "cell_type": "code",
   "execution_count": null,
   "metadata": {},
   "outputs": [],
   "source": [
    "svc_std = SVC(C=7, kernel='rbf', gamma='scale')\n",
    "svc_std.fit(trainData_hb4x4_withEncodedDistance_std, trainLabels)"
   ]
  },
  {
   "attachments": {},
   "cell_type": "markdown",
   "metadata": {},
   "source": [
    "### Prediction"
   ]
  },
  {
   "cell_type": "code",
   "execution_count": null,
   "metadata": {},
   "outputs": [
    {
     "data": {
      "text/plain": [
       "(10000,)"
      ]
     },
     "execution_count": 20,
     "metadata": {},
     "output_type": "execute_result"
    }
   ],
   "source": [
    "predictLabels = svc_std.predict(predictData_hb4x4_withEncodedDistance_std)\n",
    "predictLabels.shape"
   ]
  },
  {
   "cell_type": "code",
   "execution_count": null,
   "metadata": {},
   "outputs": [
    {
     "data": {
      "text/plain": [
       "array([2, 3, 8, 7, 9, 6, 0, 5, 2, 9])"
      ]
     },
     "execution_count": 21,
     "metadata": {},
     "output_type": "execute_result"
    }
   ],
   "source": [
    "predictLabels[:10]"
   ]
  },
  {
   "cell_type": "code",
   "execution_count": null,
   "metadata": {},
   "outputs": [
    {
     "data": {
      "image/png": "[encoded data removed]",
      "text/plain": [
       "<Figure size 1400x500 with 10 Axes>"
      ]
     },
     "metadata": {},
     "output_type": "display_data"
    }
   ],
   "source": [
    "i2label = [\"Planes\", \"Cars\", \"Birds\", \"Cats\", \"Deers\", \"Dogs\", \"Frogs\", \"Horses\", \"Ships\", \"Trucks\"]\n",
    "fig, axs = plt.subplots(2, 5, figsize=(14, 5))\n",
    "for i, ax in enumerate(axs.flatten()):\n",
    "    ax.imshow(predictData[i].reshape(32, 32, 3))\n",
    "    ax.set_title(f\"Predicted: {predictLabels[i]} ({i2label[predictLabels[i]]})\")\n",
    "    ax.axis('off')"
   ]
  },
  {
   "cell_type": "code",
   "execution_count": null,
   "metadata": {},
   "outputs": [],
   "source": [
    "predict_data(predictLabels, fp='test-ResizedHOGDaisyEOH-LDA-SVC-ft.csv')"
   ]
  },
  {
   "attachments": {},
   "cell_type": "markdown",
   "metadata": {},
   "source": [
    "## Save & Load Model"
   ]
  },
  {
   "cell_type": "code",
   "execution_count": null,
   "metadata": {},
   "outputs": [],
   "source": [
    "with open(\"ResizedHOG+Daisy+EOH+blur8x8+LDA+SVM_ftC=7.pkl\", \"wb\") as file:\n",
    "    pickle.dump(svc_std, file)"
   ]
  },
  {
   "cell_type": "code",
   "execution_count": null,
   "metadata": {},
   "outputs": [],
   "source": [
    "with open(\"ResizedHOG+Daisy+EOH+blur8x8+LDA+SVM_ftC=7.pkl\", \"rb\") as file:\n",
    "    svc_std = pickle.load(file)"
   ]
  }
 ],
 "metadata": {
  "kernelspec": {
   "display_name": "Python 3",
   "language": "python",
   "name": "python3"
  },
  "language_info": {
   "codemirror_mode": {
    "name": "ipython",
    "version": 3
   },
   "file_extension": ".py",
   "mimetype": "text/x-python",
   "name": "python",
   "nbconvert_exporter": "python",
   "pygments_lexer": "ipython3",
   "version": "3.10.9"
  }
 },
 "nbformat": 4,
 "nbformat_minor": 2
}
