{
 "cells": [
  {
   "cell_type": "markdown",
   "metadata": {},
   "source": [
    "## Importing all necessary libraries"
   ]
  },
  {
   "cell_type": "code",
   "execution_count": 20,
   "metadata": {},
   "outputs": [
    {
     "name": "stdout",
     "output_type": "stream",
     "text": [
      "Requirement already satisfied: scikit-learn-intelex in c:\\users\\liuho\\appdata\\local\\packages\\pythonsoftwarefoundation.python.3.11_qbz5n2kfra8p0\\localcache\\local-packages\\python311\\site-packages (2024.2.0)\n",
      "Requirement already satisfied: daal4py==2024.2.0 in c:\\users\\liuho\\appdata\\local\\packages\\pythonsoftwarefoundation.python.3.11_qbz5n2kfra8p0\\localcache\\local-packages\\python311\\site-packages (from scikit-learn-intelex) (2024.2.0)\n",
      "Requirement already satisfied: scikit-learn>=0.22 in c:\\users\\liuho\\appdata\\local\\packages\\pythonsoftwarefoundation.python.3.11_qbz5n2kfra8p0\\localcache\\local-packages\\python311\\site-packages (from scikit-learn-intelex) (1.2.2)\n",
      "Requirement already satisfied: daal==2024.2.0 in c:\\users\\liuho\\appdata\\local\\packages\\pythonsoftwarefoundation.python.3.11_qbz5n2kfra8p0\\localcache\\local-packages\\python311\\site-packages (from daal4py==2024.2.0->scikit-learn-intelex) (2024.2.0)\n",
      "Requirement already satisfied: numpy>=1.19 in c:\\users\\liuho\\appdata\\local\\packages\\pythonsoftwarefoundation.python.3.11_qbz5n2kfra8p0\\localcache\\local-packages\\python311\\site-packages (from daal4py==2024.2.0->scikit-learn-intelex) (1.24.3)\n",
      "Requirement already satisfied: tbb==2021.* in c:\\users\\liuho\\appdata\\local\\packages\\pythonsoftwarefoundation.python.3.11_qbz5n2kfra8p0\\localcache\\local-packages\\python311\\site-packages (from daal==2024.2.0->daal4py==2024.2.0->scikit-learn-intelex) (2021.12.0)\n",
      "Requirement already satisfied: scipy>=1.3.2 in c:\\users\\liuho\\appdata\\local\\packages\\pythonsoftwarefoundation.python.3.11_qbz5n2kfra8p0\\localcache\\local-packages\\python311\\site-packages (from scikit-learn>=0.22->scikit-learn-intelex) (1.10.1)\n",
      "Requirement already satisfied: joblib>=1.1.1 in c:\\users\\liuho\\appdata\\local\\packages\\pythonsoftwarefoundation.python.3.11_qbz5n2kfra8p0\\localcache\\local-packages\\python311\\site-packages (from scikit-learn>=0.22->scikit-learn-intelex) (1.2.0)\n",
      "Requirement already satisfied: threadpoolctl>=2.0.0 in c:\\users\\liuho\\appdata\\local\\packages\\pythonsoftwarefoundation.python.3.11_qbz5n2kfra8p0\\localcache\\local-packages\\python311\\site-packages (from scikit-learn>=0.22->scikit-learn-intelex) (3.1.0)\n"
     ]
    }
   ],
   "source": [
    "!pip install scikit-learn-intelex ## for x86 only"
   ]
  },
  {
   "cell_type": "code",
   "execution_count": 1,
   "metadata": {},
   "outputs": [],
   "source": [
    "import pandas as pd\n",
    "import numpy as np\n",
    "from PIL import Image\n",
    "\n",
    "from sklearn.manifold import TSNE\n",
    "from sklearn.decomposition import PCA\n",
    "from sklearn.discriminant_analysis import LinearDiscriminantAnalysis\n",
    "\n",
    "from sklearn.preprocessing import StandardScaler\n",
    "\n",
    "from sklearn.cluster import MiniBatchKMeans\n",
    "\n",
    "from sklearn.svm import SVC\n",
    "import cv2\n",
    "\n",
    "from skimage.feature import hog\n",
    "from cv2 import HOGDescriptor\n",
    "\n",
    "from sklearn.model_selection import train_test_split\n",
    "from sklearn.metrics import confusion_matrix\n",
    "\n",
    "import matplotlib.pyplot as plt"
   ]
  },
  {
   "cell_type": "code",
   "execution_count": 2,
   "metadata": {},
   "outputs": [
    {
     "name": "stderr",
     "output_type": "stream",
     "text": [
      "Intel(R) Extension for Scikit-learn* enabled (https://github.com/intel/scikit-learn-intelex)\n"
     ]
    }
   ],
   "source": [
    "## If your CPU Intel, you may use this to speed up training process\n",
    "\n",
    "from sklearnex import patch_sklearn\n",
    "patch_sklearn()"
   ]
  },
  {
   "cell_type": "code",
   "execution_count": 8,
   "metadata": {},
   "outputs": [],
   "source": [
    "from sklearnex import unpatch_sklearn\n",
    "unpatch_sklearn()"
   ]
  },
  {
   "cell_type": "markdown",
   "metadata": {},
   "source": [
    "## Reading Data and basic Feature Extraction"
   ]
  },
  {
   "cell_type": "code",
   "execution_count": 2,
   "metadata": {},
   "outputs": [],
   "source": [
    "def read_data(mode=\"train\", p=0.2, seed=None):\n",
    "    \"\"\"\n",
    "    Read the training/testing files and return the input data and labels.\n",
    "\n",
    "    Parameters:\n",
    "    ----------\n",
    "    mode (str): 'train' or 'test' to read the training or testing data.\n",
    "    p (float): fraction of the data to read. Useful for debugging.\n",
    "    seed (int): random seed to use for reproducibility.\n",
    "\n",
    "    Returns:\n",
    "    -------\n",
    "    X (np.array): input data\n",
    "    y (np.array): labels\n",
    "    \"\"\"\n",
    "    if mode == \"train\" or mode == \"test\":\n",
    "        data = pd.read_csv('train.csv')\n",
    "        mode = \"train\"\n",
    "    elif mode == \"predict\":\n",
    "        data = pd.read_csv('test.csv')\n",
    "        mode = \"test\"\n",
    "    else:\n",
    "        raise ValueError(\"mode must be 'train' or 'test' or 'predict'\")\n",
    "\n",
    "    if mode != \"test\":\n",
    "        if seed is None:data = data.sample(frac=p)\n",
    "        else: data = data.sample(frac=p, random_state=seed)\n",
    "\n",
    "    X = data['im_name'].apply(lambda filename: np.asarray(Image.open(f\"{mode}_ims/{filename}\"))).values\n",
    "    y = data['label'].values\n",
    "    X = np.stack(X).reshape(-1, 32*32*3)\n",
    "\n",
    "    return X, y"
   ]
  },
  {
   "cell_type": "code",
   "execution_count": 3,
   "metadata": {},
   "outputs": [],
   "source": [
    "def predict_data(predictedLabels, fp='test.csv'):\n",
    "    \"\"\"\n",
    "    Writes and predicts the testing files.\n",
    "\n",
    "    Parameters:\n",
    "    ----------\n",
    "    predictedLabels (np.array): predicted labels for the testing data.\n",
    "    fp (str): filepath to write the predicted labels.\n",
    "\n",
    "    Returns:\n",
    "    -------\n",
    "    None\n",
    "    \"\"\"\n",
    "    data = pd.read_csv('test.csv')\n",
    "    data['label'] = predictedLabels\n",
    "    data.to_csv(fp, index=False)"
   ]
  },
  {
   "cell_type": "code",
   "execution_count": 4,
   "metadata": {},
   "outputs": [
    {
     "name": "stdout",
     "output_type": "stream",
     "text": [
      "[4017, 3973, 4033, 4009, 3960, 3992, 3984, 4007, 4069, 3956]\n"
     ]
    },
    {
     "data": {
      "text/plain": [
       "((40000, 3072), (40000,), (10000, 3072), (10000,))"
      ]
     },
     "execution_count": 4,
     "metadata": {},
     "output_type": "execute_result"
    }
   ],
   "source": [
    "trainData, trainLabels = read_data(\"train\", p=1, seed=69)\n",
    "trainData, testData, trainLabels, testLabels = train_test_split(trainData, trainLabels, test_size=0.2, random_state=69)\n",
    "print([sum(trainLabels == i) for i in range(10)])\n",
    "trainData.shape, trainLabels.shape, testData.shape, testLabels.shape"
   ]
  },
  {
   "cell_type": "code",
   "execution_count": 5,
   "metadata": {},
   "outputs": [
    {
     "data": {
      "text/plain": [
       "((10000, 3072), (10000,))"
      ]
     },
     "execution_count": 5,
     "metadata": {},
     "output_type": "execute_result"
    }
   ],
   "source": [
    "predictData, predictLabels = read_data(\"predict\", p=1)\n",
    "predictData.shape, predictLabels.shape"
   ]
  },
  {
   "cell_type": "code",
   "execution_count": 8,
   "metadata": {},
   "outputs": [],
   "source": [
    "def hog_features(data, visualize=False, type='cv2', inputShape=(32, 32, 3), dtype='int'):\n",
    "    assert type in ['sklearn', 'cv2'], \"type must be 'sklearn' or 'cv2'\"\n",
    "    if data.ndim == 1: data = data.reshape(1, -1)\n",
    "    data = data.reshape(-1, *inputShape)\n",
    "    if dtype == 'float':\n",
    "        data = ((data - data.min())/(data.max() - data.min()) * 255).astype(np.uint8)\n",
    "    if type == 'sklearn':\n",
    "        _hog_kwargs = {\n",
    "            \"block_norm\": 'L2-Hys',\n",
    "            \"orientations\": 9,\n",
    "            \"pixels_per_cell\": (8, 8),\n",
    "            \"cells_per_block\": (2, 2),\n",
    "            \"channel_axis\": -1\n",
    "        }\n",
    "        if visualize: \n",
    "            _hogs = [hog(img.reshape(32, 32, 3), **_hog_kwargs, visualize=True) for img in data]\n",
    "            _hogFeatures = np.array([_hog[0] for _hog in _hogs])\n",
    "            _hogImgs = np.array([_hog[1] for _hog in _hogs])\n",
    "            return _hogFeatures, _hogImgs\n",
    "        else:\n",
    "            return np.array([hog(img, **_hog_kwargs) for img in data])\n",
    "    else:\n",
    "        assert visualize == False, \"visualize is not supported for type='cv2'\"\n",
    "        # Following params is found to be optimal for CIFAR-10 dataset\n",
    "        _hog_kwargs = {\n",
    "            \"_winSize\": (32, 32),\n",
    "            \"_blockSize\": (12, 12),\n",
    "            \"_blockStride\": (4, 4),\n",
    "            \"_cellSize\": (4, 4),\n",
    "            \"_nbins\": 10,\n",
    "            \"_derivAperture\": 1,\n",
    "            \"_winSigma\": -1,\n",
    "            \"_histogramNormType\": 0,\n",
    "            \"_L2HysThreshold\": 0.2,\n",
    "            \"_gammaCorrection\": True,\n",
    "            \"_nlevels\": 64,\n",
    "            \"_signedGradient\": True\n",
    "        }\n",
    "        _hog = HOGDescriptor(**_hog_kwargs)\n",
    "        return np.array([_hog.compute(img) for img in data])"
   ]
  },
  {
   "cell_type": "code",
   "execution_count": 9,
   "metadata": {},
   "outputs": [
    {
     "data": {
      "text/plain": [
       "((40000, 3240), (10000, 3240), (10000, 3240))"
      ]
     },
     "execution_count": 9,
     "metadata": {},
     "output_type": "execute_result"
    }
   ],
   "source": [
    "trainData_hog = hog_features(trainData)\n",
    "testData_hog = hog_features(testData)\n",
    "predictData_hog = hog_features(predictData)\n",
    "trainData_hog.shape, testData_hog.shape, predictData_hog.shape"
   ]
  },
  {
   "cell_type": "markdown",
   "metadata": {},
   "source": [
    "## K-means and whitening Feature Extraction"
   ]
  },
  {
   "cell_type": "code",
   "execution_count": 19,
   "metadata": {},
   "outputs": [],
   "source": [
    "PATCH_SHAPE = (6, 6)\n",
    "def mem_str(A):\n",
    "    return str(A.shape[0]*A.shape[1]*8/(1024*1024*1024))+'GB' # Currently using float64, shd change to float32 later"
   ]
  },
  {
   "cell_type": "code",
   "execution_count": 20,
   "metadata": {},
   "outputs": [],
   "source": [
    "def patchStandardize(patches):\n",
    "    \"\"\"\n",
    "    Standardizes patches by P_norm = (P - mean)/sqrt(var + 10).\n",
    "    \"\"\"\n",
    "    patches *= 255\n",
    "    patches -= patches.mean(axis=1, keepdims=True)\n",
    "    _var = patches.var(axis=1, keepdims=True) + 10\n",
    "    patches /= np.sqrt(_var)\n",
    "    return patches / 255"
   ]
  },
  {
   "cell_type": "code",
   "execution_count": 21,
   "metadata": {},
   "outputs": [],
   "source": [
    "def getRandomPatches(img, patchSize, k):\n",
    "    patches = np.empty((img.shape[0] * k, patchSize[0] * patchSize[1] * 3))\n",
    "    img_samples = np.random.randint(0, img.shape[0], img.shape[0] * k)\n",
    "    row_samples = np.random.randint(0, img.shape[1] - patchSize[0] + 1, img.shape[0] * k)\n",
    "    col_samples = np.random.randint(0, img.shape[2] - patchSize[1] + 1, img.shape[0] * k)\n",
    "    for i, (imgIdx, rowIdx, colIdx) in enumerate(zip(img_samples, row_samples, col_samples)):\n",
    "        patches[i] = img[imgIdx, rowIdx:rowIdx+patchSize[0], colIdx:colIdx+patchSize[1]].ravel()\n",
    "    return patches"
   ]
  },
  {
   "cell_type": "code",
   "execution_count": 22,
   "metadata": {},
   "outputs": [],
   "source": [
    "def enchanceImg(img):\n",
    "    _width = int(np.sqrt(img.shape[1] / 3))\n",
    "    img = img.reshape(_width, _width, 3)\n",
    "    return (img - img.min())/(img.max() - img.min())"
   ]
  },
  {
   "cell_type": "code",
   "execution_count": 23,
   "metadata": {},
   "outputs": [],
   "source": [
    "class Whiten():\n",
    "    def __init__(self, eps=1e-2):\n",
    "        self.eps = eps\n",
    "        self.mean = None\n",
    "        self.W = None\n",
    "    def zca(self, A):\n",
    "        \"\"\"\n",
    "        We aim to find a linear transformation W of X, such that the cov() on the transformed result of X will be diagonal. \n",
    "        We add two more restrictions:\n",
    "        1. The co-variance result should be close to the identity (diagnoal restricted to 1's). \n",
    "        2. W should be symetric W = W.T\n",
    "        with these restirctions, the math expression can be found at : (see the formula development at: page 48 at https://www.cs.toronto.edu/~kriz/learning-features-2009-TR.pdf)\n",
    "        \"\"\"\n",
    "        U, S, V = np.linalg.svd(A.T @ A / A.shape[1] , full_matrices=True)\n",
    "        self.W = U @ np.diag(1.0/np.sqrt(S + self.eps)) @ U.T\n",
    "        return np.dot(A, self.W)\n",
    "    def fit_transform(self, X):\n",
    "        self.mean = np.mean(X, axis=0)\n",
    "        return self.zca(X - self.mean)\n",
    "    def transform(self, X):\n",
    "        return (X - self.mean) @ self.W"
   ]
  },
  {
   "cell_type": "code",
   "execution_count": 24,
   "metadata": {},
   "outputs": [],
   "source": [
    "from sklearn.feature_extraction import image\n",
    "\n",
    "class KMeansEmbedding():\n",
    "    def __init__(self, k, seed=None):\n",
    "        self.k = k\n",
    "        self.seed = seed\n",
    "        self.kmeans = MiniBatchKMeans(n_clusters=k, n_init='auto', random_state=seed)\n",
    "        self.batchSize = 1000\n",
    "        self.patchSize = PATCH_SHAPE\n",
    "        self.poolShape = (2, 2)\n",
    "        self.patchExtractor = image.PatchExtractor(patch_size=self.patchSize,random_state=seed)\n",
    "    def partial_fit(self, X):\n",
    "        self.kmeans.partial_fit(X)\n",
    "    def _transform(self, X):\n",
    "        distances = self.kmeans.transform(X)\n",
    "        embedding = np.clip(distances.mean(axis=1, keepdims=True) - distances, 0, None)\n",
    "        return embedding\n",
    "    def transform(self, X, whitener):\n",
    "        embedding = np.zeros((X.shape[0], self.poolShape[0]*self.poolShape[1]*self.k))\n",
    "        for imgIdx in range(0, X.shape[0], self.batchSize):\n",
    "            _X = X[imgIdx:imgIdx+self.batchSize]\n",
    "            poolZoneShape = ((_X.shape[1]-self.patchSize[0]+1)//self.poolShape[0], (_X.shape[2]-self.patchSize[1]+1)//self.poolShape[1])\n",
    "            zone = 0\n",
    "            for zone_x in range(0, self.poolShape[0]*poolZoneShape[0], poolZoneShape[0]):\n",
    "                for zone_y in range(0, self.poolShape[1]*poolZoneShape[1], poolZoneShape[1]):\n",
    "                    patches = self.patchExtractor.transform(_X[:, zone_x:zone_x+poolZoneShape[0]+self.patchSize[0]-1, zone_y:zone_y+poolZoneShape[1]+self.patchSize[1]-1])\n",
    "                    patches = patches.reshape(patches.shape[0], -1)\n",
    "                    patches = patchStandardize(patches)\n",
    "                    patches = whitener.transform(patches)\n",
    "                    embedding[imgIdx:imgIdx+self.batchSize, zone*self.k:(zone+1)*self.k] = self._transform(patches).reshape(_X.shape[0], int(patches.shape[0]/_X.shape[0]), self.k).sum(axis=1)\n",
    "                    zone += 1\n",
    "        return embedding"
   ]
  },
  {
   "cell_type": "code",
   "execution_count": 25,
   "metadata": {},
   "outputs": [],
   "source": [
    "class LDA_encoder():\n",
    "    def __init__(self, ndim):\n",
    "        self.ndim = ndim\n",
    "        self._lda = LinearDiscriminantAnalysis(n_components=ndim)\n",
    "        self.classCenters = None\n",
    "    def fit(self, X, y):\n",
    "        _X = self._lda.fit_transform(X, y)\n",
    "        self.classCenters = np.array([np.mean(_X[y == i], axis=0) for i in np.unique(y)])\n",
    "    def encode(self, X):\n",
    "        return 1/np.array([np.linalg.norm(self._lda.transform(X) - center, axis=1) for center in self.classCenters]).T\n",
    "    def predict(self, X, prob=False):\n",
    "        _X = self._lda.transform(X)\n",
    "        if prob:\n",
    "            return softmax(1/np.array([np.linalg.norm(_X - center, axis=1) for center in self.classCenters]).T)\n",
    "        else:\n",
    "            return np.argmin(np.array([np.linalg.norm(_X - center, axis=1) for center in self.classCenters]).T, axis=1)"
   ]
  },
  {
   "cell_type": "code",
   "execution_count": 26,
   "metadata": {},
   "outputs": [],
   "source": [
    "kmeansEmbedding = KMeansEmbedding(4000, seed=69)\n",
    "whitener = Whiten()"
   ]
  },
  {
   "cell_type": "code",
   "execution_count": 27,
   "metadata": {},
   "outputs": [
    {
     "name": "stdout",
     "output_type": "stream",
     "text": [
      "Num of iters = 50\n",
      "Total Patches = 40000000\n",
      "Features per step per image = 20\n",
      "Each iter requires 0.6437 GB of memory\n",
      "Before Whitening\n"
     ]
    },
    {
     "data": {
      "image/png": "[encoded data removed]",
      "text/plain": [
       "<Figure size 300x300 with 1 Axes>"
      ]
     },
     "metadata": {},
     "output_type": "display_data"
    },
    {
     "name": "stdout",
     "output_type": "stream",
     "text": [
      "After Whitening\n"
     ]
    },
    {
     "data": {
      "image/png": "[encoded data removed]",
      "text/plain": [
       "<Figure size 300x300 with 1 Axes>"
      ]
     },
     "metadata": {},
     "output_type": "display_data"
    },
    {
     "name": "stdout",
     "output_type": "stream",
     "text": [
      "Iteration 1/50 done\n",
      "Iteration 2/50 done\n",
      "Iteration 3/50 done\n",
      "Iteration 4/50 done\n",
      "Iteration 5/50 done\n",
      "Iteration 6/50 done\n",
      "Iteration 7/50 done\n",
      "Iteration 8/50 done\n",
      "Iteration 9/50 done\n",
      "Iteration 10/50 done\n",
      "Iteration 11/50 done\n",
      "Iteration 12/50 done\n",
      "Iteration 13/50 done\n",
      "Iteration 14/50 done\n",
      "Iteration 15/50 done\n",
      "Iteration 16/50 done\n",
      "Iteration 17/50 done\n",
      "Iteration 18/50 done\n",
      "Iteration 19/50 done\n",
      "Iteration 20/50 done\n",
      "Iteration 21/50 done\n",
      "Iteration 22/50 done\n",
      "Iteration 23/50 done\n",
      "Iteration 24/50 done\n",
      "Iteration 25/50 done\n",
      "Iteration 26/50 done\n",
      "Iteration 27/50 done\n",
      "Iteration 28/50 done\n",
      "Iteration 29/50 done\n",
      "Iteration 30/50 done\n",
      "Iteration 31/50 done\n",
      "Iteration 32/50 done\n",
      "Iteration 33/50 done\n",
      "Iteration 34/50 done\n",
      "Iteration 35/50 done\n",
      "Iteration 36/50 done\n",
      "Iteration 37/50 done\n",
      "Iteration 38/50 done\n",
      "Iteration 39/50 done\n",
      "Iteration 40/50 done\n",
      "Iteration 41/50 done\n",
      "Iteration 42/50 done\n",
      "Iteration 43/50 done\n",
      "Iteration 44/50 done\n",
      "Iteration 45/50 done\n",
      "Iteration 46/50 done\n",
      "Iteration 47/50 done\n",
      "Iteration 48/50 done\n",
      "Iteration 49/50 done\n",
      "Iteration 50/50 done\n"
     ]
    }
   ],
   "source": [
    "whitenerBatch = 40000*100//5\n",
    "\n",
    "totPatches = len(trainData) * 1000\n",
    "totSteps = int(np.ceil(totPatches/whitenerBatch))\n",
    "featuresPerStepPerImg = int(np.ceil(totPatches/totSteps/len(trainData)))\n",
    "print(f\"Num of iters = {totSteps}\\nTotal Patches = {totPatches}\\nFeatures per step per image = {featuresPerStepPerImg}\\nEach iter requires {featuresPerStepPerImg*len(trainData)*PATCH_SHAPE[0]*PATCH_SHAPE[1]*3*8/(1024*1024*1024):.4f} GB of memory\")\n",
    "for i in range(totSteps):\n",
    "    patches = getRandomPatches(trainData.reshape(-1, 32, 32, 3), PATCH_SHAPE, featuresPerStepPerImg)\n",
    "    patches = patchStandardize(patches)\n",
    "    if i == 0:\n",
    "        print(\"Before Whitening\")\n",
    "        plt.figure(figsize=(3, 3))\n",
    "        plt.imshow(enchanceImg(patches[:1]))\n",
    "        plt.show()\n",
    "        patches = whitener.fit_transform(patches.reshape(-1, PATCH_SHAPE[0]*PATCH_SHAPE[1]*3))\n",
    "        print(\"After Whitening\")\n",
    "        plt.figure(figsize=(3, 3))\n",
    "        plt.imshow(enchanceImg(patches[:1]))\n",
    "        plt.show()\n",
    "    else:\n",
    "        patches = whitener.transform(patches.reshape(-1, PATCH_SHAPE[0]*PATCH_SHAPE[1]*3))\n",
    "    kmeansEmbedding.partial_fit(patches)\n",
    "    print(f\"Iteration {i+1}/{totSteps} done\")"
   ]
  },
  {
   "cell_type": "code",
   "execution_count": 28,
   "metadata": {},
   "outputs": [
    {
     "data": {
      "text/plain": [
       "((40000, 16000), (10000, 16000), (10000, 16000))"
      ]
     },
     "execution_count": 28,
     "metadata": {},
     "output_type": "execute_result"
    }
   ],
   "source": [
    "trainData_Embedding = kmeansEmbedding.transform(trainData.reshape(-1, 32, 32, 3), whitener)\n",
    "testData_Embedding = kmeansEmbedding.transform(testData.reshape(-1, 32, 32, 3), whitener)\n",
    "predictData_Embedding = kmeansEmbedding.transform(predictData.reshape(-1, 32, 32, 3), whitener)\n",
    "trainData_Embedding.shape, testData_Embedding.shape, predictData_Embedding.shape"
   ]
  },
  {
   "cell_type": "code",
   "execution_count": 36,
   "metadata": {},
   "outputs": [],
   "source": [
    "# save\n",
    "np.save('kmeans4000_embeds/trainData_Embedding', trainData_Embedding)\n",
    "np.save('kmeans4000_embeds/testData_Embedding', testData_Embedding)\n",
    "np.save('kmeans4000_embeds/predictData_Embedding', predictData_Embedding)\n",
    "# and labels\n",
    "np.save('kmeans4000_embeds/trainLabels', trainLabels)\n",
    "np.save('kmeans4000_embeds/testLabels', testLabels)"
   ]
  },
  {
   "cell_type": "code",
   "execution_count": null,
   "metadata": {},
   "outputs": [],
   "source": [
    "lda = LDA_encoder(ndim=9)\n",
    "lda.fit(trainData_Embedding, trainLabels)"
   ]
  },
  {
   "cell_type": "code",
   "execution_count": null,
   "metadata": {},
   "outputs": [
    {
     "data": {
      "text/plain": [
       "((40000, 410), (10000, 410), (10000, 410))"
      ]
     },
     "execution_count": 128,
     "metadata": {},
     "output_type": "execute_result"
    }
   ],
   "source": [
    "trainData_Embedding_lda = np.hstack([trainData_Embedding, lda.encode(trainData_Embedding)])\n",
    "testData_Embedding_lda = np.hstack([testData_Embedding, lda.encode(testData_Embedding)])\n",
    "predictData_Embedding_lda = np.hstack([predictData_Embedding, lda.encode(predictData_Embedding)])\n",
    "trainData_Embedding_lda.shape, testData_Embedding_lda.shape, predictData_Embedding_lda.shape"
   ]
  },
  {
   "cell_type": "code",
   "execution_count": 281,
   "metadata": {},
   "outputs": [],
   "source": [
    "def mask(X, p=0.2):\n",
    "    mask = np.random.rand(X.shape[0], X.shape[1]) > p\n",
    "    return X * mask"
   ]
  },
  {
   "cell_type": "code",
   "execution_count": 282,
   "metadata": {},
   "outputs": [
    {
     "data": {
      "text/plain": [
       "((40000, 3200), (10000, 3200), (10000, 3200))"
      ]
     },
     "execution_count": 282,
     "metadata": {},
     "output_type": "execute_result"
    }
   ],
   "source": [
    "trainData_Embedding_masked = mask(trainData_Embedding, p=0)\n",
    "testData_Embedding_masked = mask(testData_Embedding, p=0)\n",
    "predictData_Embedding_masked = mask(predictData_Embedding, p=0)\n",
    "trainData_Embedding_masked.shape, testData_Embedding_masked.shape, predictData_Embedding_masked.shape"
   ]
  },
  {
   "cell_type": "code",
   "execution_count": 283,
   "metadata": {},
   "outputs": [
    {
     "data": {
      "text/plain": [
       "array([0.22991468, 1.43338879, 1.77013269, 1.81065524, 0.76901093,\n",
       "       1.41512245, 0.72819399, 1.00643477, 0.86055008, 1.20136789])"
      ]
     },
     "execution_count": 283,
     "metadata": {},
     "output_type": "execute_result"
    }
   ],
   "source": [
    "trainData_Embedding[0, :10]"
   ]
  },
  {
   "cell_type": "code",
   "execution_count": 29,
   "metadata": {},
   "outputs": [],
   "source": [
    "from sklearn import svm\n",
    "from liblinear.liblinearutil import train, predict, save_model, load_model\n",
    "\n",
    "def computeTestAcc(p, trainData, trainLabels, testData, testLabels):\n",
    "    svm_ft = train(trainLabels, trainData, f'-c {10**p} -s 2')\n",
    "    return predict(testLabels, testData, svm_ft)[1][0]"
   ]
  },
  {
   "cell_type": "code",
   "execution_count": 30,
   "metadata": {},
   "outputs": [
    {
     "name": "stdout",
     "output_type": "stream",
     "text": [
      "Accuracy = 68.68% (6868/10000) (classification)\n",
      "Accuracy = 68.09% (6809/10000) (classification)\n",
      "Initializations, intial interval: [-1.0000, 1.0000], error: 2.0000, optimal C: 1.0000 +/- 9.0000\n",
      "Accuracy = 68.65% (6865/10000) (classification)\n",
      "Iteration 1, interval: [-1.0000, 0.2361], error: 1.2361, optimal C: 0.4150 +/- 1.3072, accuracy: {left: 68.65, right: 68.67999999999999}\n",
      "Accuracy = 68.81% (6881/10000) (classification)\n",
      "Iteration 2, interval: [-0.5279, 0.2361], error: 0.7639, optimal C: 0.7147 +/- 1.0075, accuracy: {left: 68.67999999999999, right: 68.81}\n",
      "Accuracy = 68.46% (6846/10000) (classification)\n",
      "Iteration 3, interval: [-0.2361, 0.2361], error: 0.4721, optimal C: 1.0000 +/- 0.7221, accuracy: {left: 68.81, right: 68.46}\n",
      "Accuracy = 68.84% (6884/10000) (classification)\n",
      "Iteration 4, interval: [-0.2361, 0.0557], error: 0.2918, optimal C: 0.8125 +/- 0.3244, accuracy: {left: 68.84, right: 68.81}\n",
      "Accuracy = 69.06% (6906/10000) (classification)\n",
      "Iteration 5, interval: [-0.2361, -0.0557], error: 0.1803, optimal C: 0.7147 +/- 0.1649, accuracy: {left: 69.06, right: 68.84}\n",
      "Accuracy = 68.67% (6867/10000) (classification)\n",
      "Iteration 6, interval: [-0.2361, -0.1246], error: 0.1115, optimal C: 0.6602 +/- 0.0904, accuracy: {left: 68.67, right: 69.06}\n",
      "Accuracy = 68.65% (6865/10000) (classification)\n",
      "Iteration 7, interval: [-0.1935, -0.1246], error: 0.0689, optimal C: 0.6933 +/- 0.0572, accuracy: {left: 69.06, right: 68.65}\n",
      "Accuracy = 68.91% (6891/10000) (classification)\n",
      "Iteration 8, interval: [-0.1935, -0.1509], error: 0.0426, optimal C: 0.6727 +/- 0.0338, accuracy: {left: 68.91000000000001, right: 69.06}\n",
      "Accuracy = 68.92% (6892/10000) (classification)\n",
      "Iteration 9, interval: [-0.1772, -0.1509], error: 0.0263, optimal C: 0.6854 +/- 0.0211, accuracy: {left: 69.06, right: 68.92}\n",
      "Accuracy = 68.96% (6896/10000) (classification)\n",
      "Iteration 10, interval: [-0.1772, -0.1610], error: 0.0163, optimal C: 0.6775 +/- 0.0128, accuracy: {left: 68.96, right: 69.06}\n",
      "Accuracy = 68.42% (6842/10000) (classification)\n",
      "Iteration 11, interval: [-0.1710, -0.1610], error: 0.0100, optimal C: 0.6823 +/- 0.0079, accuracy: {left: 69.06, right: 68.42}\n",
      "Accuracy = 68.82% (6882/10000) (classification)\n",
      "Iteration 12, interval: [-0.1710, -0.1648], error: 0.0062, optimal C: 0.6793 +/- 0.0049, accuracy: {left: 68.82000000000001, right: 69.06}\n",
      "Accuracy = 68.81% (6881/10000) (classification)\n",
      "Iteration 13, interval: [-0.1687, -0.1648], error: 0.0038, optimal C: 0.6812 +/- 0.0030, accuracy: {left: 69.06, right: 68.81}\n",
      "Optimal C: 0.6812 +/- 0.0030\n"
     ]
    }
   ],
   "source": [
    "a, b = -1, 1\n",
    "precision = 5e-3\n",
    "phi = (np.sqrt(5)-1)/2\n",
    "subset = 10000\n",
    "\n",
    "l = a + (1-phi)*(b-a)\n",
    "r = a + phi*(b-a)\n",
    "fl = computeTestAcc(l, trainData_Embedding[:subset], trainLabels[:subset], testData_Embedding, testLabels)\n",
    "fr = computeTestAcc(r, trainData_Embedding[:subset], trainLabels[:subset], testData_Embedding, testLabels)\n",
    "\n",
    "iter = 0\n",
    "\n",
    "print(f\"Initializations, intial interval: [{a:.4f}, {b:.4f}], error: {b-a:.4f}, optimal C: {10**((b+a)/2):.4f} +/- {10**b-10**((b+a)/2):.4f}\")\n",
    "\n",
    "while b - a > precision:\n",
    "    if fl < fr:\n",
    "        a = l\n",
    "        l = r\n",
    "        fl = fr\n",
    "        r = a + phi*(b-a)\n",
    "        fr = computeTestAcc(r, trainData_Embedding[:subset], trainLabels[:subset], testData_Embedding, testLabels)\n",
    "    else:\n",
    "        b = r\n",
    "        r = l\n",
    "        fr = fl\n",
    "        l = a + (1-phi)*(b-a)\n",
    "        fl = computeTestAcc(l, trainData_Embedding[:subset], trainLabels[:subset], testData_Embedding, testLabels)\n",
    "    iter += 1\n",
    "    print(f\"Iteration {iter}, interval: [{a:.4f}, {b:.4f}], error: {b-a:.4f}, optimal C: {10**((b+a)/2):.4f} +/- {10**b-10**((b+a)/2):.4f}, accuracy: {{left: {fl}, right: {fr}}}\")\n",
    "\n",
    "optimalC = 10**((b+a)/2)\n",
    "print(f\"Optimal C: {optimalC:.4f} +/- {10**b-optimalC:.4f}\")"
   ]
  },
  {
   "cell_type": "code",
   "execution_count": 31,
   "metadata": {},
   "outputs": [],
   "source": [
    "svm = train(trainLabels, trainData_Embedding, f'-c {optimalC} -s 2')"
   ]
  },
  {
   "cell_type": "code",
   "execution_count": 34,
   "metadata": {},
   "outputs": [
    {
     "name": "stdout",
     "output_type": "stream",
     "text": [
      "Accuracy = 74.3% (7430/10000) (classification)\n"
     ]
    }
   ],
   "source": [
    "test_pred, test_acc, test_val = predict(testLabels, testData_Embedding, svm)"
   ]
  },
  {
   "cell_type": "code",
   "execution_count": null,
   "metadata": {},
   "outputs": [
    {
     "data": {
      "text/html": [
       "<style>#sk-container-id-16 {color: black;background-color: white;}#sk-container-id-16 pre{padding: 0;}#sk-container-id-16 div.sk-toggleable {background-color: white;}#sk-container-id-16 label.sk-toggleable__label {cursor: pointer;display: block;width: 100%;margin-bottom: 0;padding: 0.3em;box-sizing: border-box;text-align: center;}#sk-container-id-16 label.sk-toggleable__label-arrow:before {content: \"▸\";float: left;margin-right: 0.25em;color: #696969;}#sk-container-id-16 label.sk-toggleable__label-arrow:hover:before {color: black;}#sk-container-id-16 div.sk-estimator:hover label.sk-toggleable__label-arrow:before {color: black;}#sk-container-id-16 div.sk-toggleable__content {max-height: 0;max-width: 0;overflow: hidden;text-align: left;background-color: #f0f8ff;}#sk-container-id-16 div.sk-toggleable__content pre {margin: 0.2em;color: black;border-radius: 0.25em;background-color: #f0f8ff;}#sk-container-id-16 input.sk-toggleable__control:checked~div.sk-toggleable__content {max-height: 200px;max-width: 100%;overflow: auto;}#sk-container-id-16 input.sk-toggleable__control:checked~label.sk-toggleable__label-arrow:before {content: \"▾\";}#sk-container-id-16 div.sk-estimator input.sk-toggleable__control:checked~label.sk-toggleable__label {background-color: #d4ebff;}#sk-container-id-16 div.sk-label input.sk-toggleable__control:checked~label.sk-toggleable__label {background-color: #d4ebff;}#sk-container-id-16 input.sk-hidden--visually {border: 0;clip: rect(1px 1px 1px 1px);clip: rect(1px, 1px, 1px, 1px);height: 1px;margin: -1px;overflow: hidden;padding: 0;position: absolute;width: 1px;}#sk-container-id-16 div.sk-estimator {font-family: monospace;background-color: #f0f8ff;border: 1px dotted black;border-radius: 0.25em;box-sizing: border-box;margin-bottom: 0.5em;}#sk-container-id-16 div.sk-estimator:hover {background-color: #d4ebff;}#sk-container-id-16 div.sk-parallel-item::after {content: \"\";width: 100%;border-bottom: 1px solid gray;flex-grow: 1;}#sk-container-id-16 div.sk-label:hover label.sk-toggleable__label {background-color: #d4ebff;}#sk-container-id-16 div.sk-serial::before {content: \"\";position: absolute;border-left: 1px solid gray;box-sizing: border-box;top: 0;bottom: 0;left: 50%;z-index: 0;}#sk-container-id-16 div.sk-serial {display: flex;flex-direction: column;align-items: center;background-color: white;padding-right: 0.2em;padding-left: 0.2em;position: relative;}#sk-container-id-16 div.sk-item {position: relative;z-index: 1;}#sk-container-id-16 div.sk-parallel {display: flex;align-items: stretch;justify-content: center;background-color: white;position: relative;}#sk-container-id-16 div.sk-item::before, #sk-container-id-16 div.sk-parallel-item::before {content: \"\";position: absolute;border-left: 1px solid gray;box-sizing: border-box;top: 0;bottom: 0;left: 50%;z-index: -1;}#sk-container-id-16 div.sk-parallel-item {display: flex;flex-direction: column;z-index: 1;position: relative;background-color: white;}#sk-container-id-16 div.sk-parallel-item:first-child::after {align-self: flex-end;width: 50%;}#sk-container-id-16 div.sk-parallel-item:last-child::after {align-self: flex-start;width: 50%;}#sk-container-id-16 div.sk-parallel-item:only-child::after {width: 0;}#sk-container-id-16 div.sk-dashed-wrapped {border: 1px dashed gray;margin: 0 0.4em 0.5em 0.4em;box-sizing: border-box;padding-bottom: 0.4em;background-color: white;}#sk-container-id-16 div.sk-label label {font-family: monospace;font-weight: bold;display: inline-block;line-height: 1.2em;}#sk-container-id-16 div.sk-label-container {text-align: center;}#sk-container-id-16 div.sk-container {/* jupyter's `normalize.less` sets `[hidden] { display: none; }` but bootstrap.min.css set `[hidden] { display: none !important; }` so we also need the `!important` here to be able to override the default hidden behavior on the sphinx rendered scikit-learn.org. See: https://github.com/scikit-learn/scikit-learn/issues/21755 */display: inline-block !important;position: relative;}#sk-container-id-16 div.sk-text-repr-fallback {display: none;}</style><div id=\"sk-container-id-16\" class=\"sk-top-container\"><div class=\"sk-text-repr-fallback\"><pre>LinearSVC(C=0.11755551787634247, dual=False, random_state=69)</pre><b>In a Jupyter environment, please rerun this cell to show the HTML representation or trust the notebook. <br />On GitHub, the HTML representation is unable to render, please try loading this page with nbviewer.org.</b></div><div class=\"sk-container\" hidden><div class=\"sk-item\"><div class=\"sk-estimator sk-toggleable\"><input class=\"sk-toggleable__control sk-hidden--visually\" id=\"sk-estimator-id-16\" type=\"checkbox\" checked><label for=\"sk-estimator-id-16\" class=\"sk-toggleable__label sk-toggleable__label-arrow\">LinearSVC</label><div class=\"sk-toggleable__content\"><pre>LinearSVC(C=0.11755551787634247, dual=False, random_state=69)</pre></div></div></div></div></div>"
      ],
      "text/plain": [
       "LinearSVC(C=0.11755551787634247, dual=False, random_state=69)"
      ]
     },
     "execution_count": 288,
     "metadata": {},
     "output_type": "execute_result"
    }
   ],
   "source": [
    "from sklearn import svm\n",
    "\n",
    "svm = svm.LinearSVC(C=optimalC, dual=False, random_state=69)\n",
    "svm.fit(trainData_Embedding, trainLabels)"
   ]
  },
  {
   "cell_type": "code",
   "execution_count": null,
   "metadata": {},
   "outputs": [
    {
     "data": {
      "text/plain": [
       "0.749"
      ]
     },
     "execution_count": 289,
     "metadata": {},
     "output_type": "execute_result"
    }
   ],
   "source": [
    "test_pred = svm.predict(testData_Embedding_masked)\n",
    "(test_pred == testLabels).mean()"
   ]
  },
  {
   "cell_type": "code",
   "execution_count": null,
   "metadata": {},
   "outputs": [
    {
     "data": {
      "text/plain": [
       "0.8325"
      ]
     },
     "execution_count": 290,
     "metadata": {},
     "output_type": "execute_result"
    }
   ],
   "source": [
    "# erm slow\n",
    "train_pred = svm.predict(trainData_Embedding_masked)\n",
    "(train_pred == trainLabels).mean()"
   ]
  },
  {
   "cell_type": "code",
   "execution_count": 33,
   "metadata": {},
   "outputs": [
    {
     "ename": "NameError",
     "evalue": "name 'test_pred' is not defined",
     "output_type": "error",
     "traceback": [
      "\u001b[1;31m---------------------------------------------------------------------------\u001b[0m",
      "\u001b[1;31mNameError\u001b[0m                                 Traceback (most recent call last)",
      "Cell \u001b[1;32mIn[33], line 1\u001b[0m\n\u001b[1;32m----> 1\u001b[0m cm \u001b[38;5;241m=\u001b[39m confusion_matrix(testLabels, \u001b[43mtest_pred\u001b[49m)\n\u001b[0;32m      2\u001b[0m plt\u001b[38;5;241m.\u001b[39mimshow(cm, cmap\u001b[38;5;241m=\u001b[39m\u001b[38;5;124m'\u001b[39m\u001b[38;5;124mBlues\u001b[39m\u001b[38;5;124m'\u001b[39m)\n\u001b[0;32m      3\u001b[0m \u001b[38;5;28;01mfor\u001b[39;00m i \u001b[38;5;129;01min\u001b[39;00m \u001b[38;5;28mrange\u001b[39m(\u001b[38;5;241m10\u001b[39m):\n",
      "\u001b[1;31mNameError\u001b[0m: name 'test_pred' is not defined"
     ]
    }
   ],
   "source": [
    "cm = confusion_matrix(testLabels, test_pred)\n",
    "plt.imshow(cm, cmap='Blues')\n",
    "for i in range(10):\n",
    "    for j in range(10):\n",
    "        plt.text(j, i, cm[i, j], ha='center', va='center', color='black' if cm[i, j] < cm.max()/2 else 'white')\n",
    "plt.xlabel(\"Prediction\")\n",
    "plt.ylabel(\"True\")"
   ]
  },
  {
   "cell_type": "code",
   "execution_count": 165,
   "metadata": {},
   "outputs": [],
   "source": [
    "import torch\n",
    "import torch.nn as nn\n",
    "import torch.nn.functional as F\n",
    "import torch.optim as optim\n",
    "import torch.utils.data as data"
   ]
  },
  {
   "cell_type": "code",
   "execution_count": 226,
   "metadata": {},
   "outputs": [],
   "source": [
    "class LogisticRegression(nn.Module):\n",
    "    def __init__(self, input_dim):\n",
    "        super(LogisticRegression, self).__init__()\n",
    "        self.lr = nn.Linear(input_dim, 10)\n",
    "    def forward(self, X):\n",
    "        X = self.lr(X)\n",
    "        return X\n",
    "    def train(self, trainData, trainLabels, testData, testLabels, mode='iterate'):\n",
    "        epochs = 500\n",
    "        optimizer = optim.Adam(self.parameters(), lr=7e-4)\n",
    "        criterion = nn.CrossEntropyLoss()\n",
    "\n",
    "        trainData_dataset = data.TensorDataset(trainData, trainLabels)\n",
    "        trainData_dataloader = data.DataLoader(trainData_dataset, batch_size=128, shuffle=True)\n",
    "\n",
    "        for epoch in range(epochs):\n",
    "            tot_loss = 0\n",
    "            for X, y in trainData_dataloader:\n",
    "                outputs = self(X)\n",
    "                loss = criterion(outputs, y)\n",
    "                optimizer.zero_grad()\n",
    "                loss.backward()\n",
    "                optimizer.step()\n",
    "                tot_loss += loss.item()\n",
    "            tot_loss /= len(trainData_dataloader)\n",
    "            if (epoch+1) % 5 == 0:\n",
    "                train_acc = (self(trainData).argmax(axis=1) == trainLabels).to(dtype=torch.float32).mean().item()\n",
    "                test_acc = (self(testData).argmax(axis=1) == testLabels).to(dtype=torch.float32).mean().item()\n",
    "                print(f\"Epoch {epoch+1}/{epochs}, Loss: {tot_loss:.4f}, Train Acc: {train_acc:.4f}, Test Acc: {test_acc:.4f}\")\n",
    "            if epochs == 100:\n",
    "                for param in optimizer.param_groups:\n",
    "                    param['lr'] = 1e-4\n",
    "            if epochs == 200:\n",
    "                for param in optimizer.param_groups:\n",
    "                    param['lr'] = 5e-5"
   ]
  },
  {
   "cell_type": "code",
   "execution_count": 227,
   "metadata": {},
   "outputs": [],
   "source": [
    "lr = LogisticRegression(trainData_Embedding.shape[1])"
   ]
  },
  {
   "cell_type": "code",
   "execution_count": 228,
   "metadata": {},
   "outputs": [
    {
     "data": {
      "text/plain": [
       "(torch.Size([40000, 3200]),\n",
       " torch.Size([40000]),\n",
       " torch.Size([10000, 3200]),\n",
       " torch.Size([10000]))"
      ]
     },
     "execution_count": 228,
     "metadata": {},
     "output_type": "execute_result"
    }
   ],
   "source": [
    "trainData_Embedding_tensor = torch.tensor(trainData_Embedding, dtype=torch.float32)\n",
    "trainLabels_tensor = torch.tensor(trainLabels, dtype=torch.long)\n",
    "testData_Embedding_tensor = torch.tensor(testData_Embedding, dtype=torch.float32)\n",
    "testLabels_tensor = torch.tensor(testLabels, dtype=torch.long)\n",
    "trainData_Embedding_tensor.shape, trainLabels_tensor.shape, testData_Embedding_tensor.shape, testLabels_tensor.shape"
   ]
  },
  {
   "cell_type": "code",
   "execution_count": 229,
   "metadata": {},
   "outputs": [
    {
     "name": "stdout",
     "output_type": "stream",
     "text": [
      "Epoch 5/500, Loss: 1.1179, Train Acc: 0.6227, Test Acc: 0.6052\n",
      "Epoch 10/500, Loss: 1.0368, Train Acc: 0.6472, Test Acc: 0.6300\n",
      "Epoch 15/500, Loss: 0.9950, Train Acc: 0.6599, Test Acc: 0.6346\n",
      "Epoch 20/500, Loss: 0.9662, Train Acc: 0.6475, Test Acc: 0.6262\n",
      "Epoch 25/500, Loss: 0.9391, Train Acc: 0.6732, Test Acc: 0.6496\n",
      "Epoch 30/500, Loss: 0.9190, Train Acc: 0.6940, Test Acc: 0.6638\n",
      "Epoch 35/500, Loss: 0.9012, Train Acc: 0.6963, Test Acc: 0.6701\n",
      "Epoch 40/500, Loss: 0.8967, Train Acc: 0.6996, Test Acc: 0.6686\n",
      "Epoch 45/500, Loss: 0.8801, Train Acc: 0.7034, Test Acc: 0.6704\n",
      "Epoch 50/500, Loss: 0.8772, Train Acc: 0.7054, Test Acc: 0.6733\n",
      "Epoch 55/500, Loss: 0.8606, Train Acc: 0.7068, Test Acc: 0.6734\n",
      "Epoch 60/500, Loss: 0.8487, Train Acc: 0.7067, Test Acc: 0.6812\n",
      "Epoch 65/500, Loss: 0.8363, Train Acc: 0.7138, Test Acc: 0.6825\n",
      "Epoch 70/500, Loss: 0.8351, Train Acc: 0.7103, Test Acc: 0.6799\n",
      "Epoch 75/500, Loss: 0.8294, Train Acc: 0.7121, Test Acc: 0.6763\n",
      "Epoch 80/500, Loss: 0.8157, Train Acc: 0.7163, Test Acc: 0.6809\n",
      "Epoch 85/500, Loss: 0.8103, Train Acc: 0.7184, Test Acc: 0.6820\n",
      "Epoch 90/500, Loss: 0.8059, Train Acc: 0.7254, Test Acc: 0.6875\n",
      "Epoch 95/500, Loss: 0.8022, Train Acc: 0.7217, Test Acc: 0.6843\n",
      "Epoch 100/500, Loss: 0.7980, Train Acc: 0.7344, Test Acc: 0.6939\n",
      "Epoch 105/500, Loss: 0.7959, Train Acc: 0.7330, Test Acc: 0.6916\n",
      "Epoch 110/500, Loss: 0.7872, Train Acc: 0.7410, Test Acc: 0.7002\n",
      "Epoch 115/500, Loss: 0.7833, Train Acc: 0.7295, Test Acc: 0.6897\n",
      "Epoch 120/500, Loss: 0.7794, Train Acc: 0.7446, Test Acc: 0.7033\n",
      "Epoch 125/500, Loss: 0.7695, Train Acc: 0.7365, Test Acc: 0.6926\n",
      "Epoch 130/500, Loss: 0.7729, Train Acc: 0.7299, Test Acc: 0.6893\n",
      "Epoch 135/500, Loss: 0.7670, Train Acc: 0.7491, Test Acc: 0.7076\n",
      "Epoch 140/500, Loss: 0.7682, Train Acc: 0.7388, Test Acc: 0.6959\n",
      "Epoch 145/500, Loss: 0.7586, Train Acc: 0.7307, Test Acc: 0.6885\n",
      "Epoch 150/500, Loss: 0.7468, Train Acc: 0.7520, Test Acc: 0.7091\n",
      "Epoch 155/500, Loss: 0.7538, Train Acc: 0.7365, Test Acc: 0.6967\n",
      "Epoch 160/500, Loss: 0.7538, Train Acc: 0.7485, Test Acc: 0.7026\n",
      "Epoch 165/500, Loss: 0.7496, Train Acc: 0.7464, Test Acc: 0.7027\n",
      "Epoch 170/500, Loss: 0.7437, Train Acc: 0.7444, Test Acc: 0.7002\n",
      "Epoch 175/500, Loss: 0.7447, Train Acc: 0.7531, Test Acc: 0.7057\n",
      "Epoch 180/500, Loss: 0.7372, Train Acc: 0.7539, Test Acc: 0.7034\n",
      "Epoch 185/500, Loss: 0.7373, Train Acc: 0.7567, Test Acc: 0.7096\n",
      "Epoch 190/500, Loss: 0.7320, Train Acc: 0.7511, Test Acc: 0.6996\n",
      "Epoch 195/500, Loss: 0.7291, Train Acc: 0.7661, Test Acc: 0.7166\n",
      "Epoch 200/500, Loss: 0.7286, Train Acc: 0.7531, Test Acc: 0.7014\n",
      "Epoch 205/500, Loss: 0.7219, Train Acc: 0.7571, Test Acc: 0.7105\n",
      "Epoch 210/500, Loss: 0.7245, Train Acc: 0.7691, Test Acc: 0.7190\n",
      "Epoch 215/500, Loss: 0.7185, Train Acc: 0.7670, Test Acc: 0.7165\n",
      "Epoch 220/500, Loss: 0.7160, Train Acc: 0.7643, Test Acc: 0.7115\n",
      "Epoch 225/500, Loss: 0.7193, Train Acc: 0.7627, Test Acc: 0.7107\n",
      "Epoch 230/500, Loss: 0.7096, Train Acc: 0.7627, Test Acc: 0.7110\n",
      "Epoch 235/500, Loss: 0.7072, Train Acc: 0.7622, Test Acc: 0.7076\n",
      "Epoch 240/500, Loss: 0.7021, Train Acc: 0.7577, Test Acc: 0.7103\n",
      "Epoch 245/500, Loss: 0.7055, Train Acc: 0.7642, Test Acc: 0.7096\n",
      "Epoch 250/500, Loss: 0.7057, Train Acc: 0.7660, Test Acc: 0.7120\n",
      "Epoch 255/500, Loss: 0.6970, Train Acc: 0.7597, Test Acc: 0.7079\n",
      "Epoch 260/500, Loss: 0.7031, Train Acc: 0.7418, Test Acc: 0.6922\n",
      "Epoch 265/500, Loss: 0.6966, Train Acc: 0.7737, Test Acc: 0.7149\n",
      "Epoch 270/500, Loss: 0.6930, Train Acc: 0.7710, Test Acc: 0.7149\n",
      "Epoch 275/500, Loss: 0.6916, Train Acc: 0.7743, Test Acc: 0.7187\n",
      "Epoch 280/500, Loss: 0.6966, Train Acc: 0.7661, Test Acc: 0.7127\n",
      "Epoch 285/500, Loss: 0.6961, Train Acc: 0.7538, Test Acc: 0.7017\n",
      "Epoch 290/500, Loss: 0.6960, Train Acc: 0.7710, Test Acc: 0.7122\n",
      "Epoch 295/500, Loss: 0.6900, Train Acc: 0.7707, Test Acc: 0.7139\n",
      "Epoch 300/500, Loss: 0.6828, Train Acc: 0.7747, Test Acc: 0.7194\n",
      "Epoch 305/500, Loss: 0.6830, Train Acc: 0.7582, Test Acc: 0.7020\n",
      "Epoch 310/500, Loss: 0.6801, Train Acc: 0.7581, Test Acc: 0.7079\n",
      "Epoch 315/500, Loss: 0.6858, Train Acc: 0.7460, Test Acc: 0.6966\n",
      "Epoch 320/500, Loss: 0.6790, Train Acc: 0.7637, Test Acc: 0.7056\n",
      "Epoch 325/500, Loss: 0.6795, Train Acc: 0.7654, Test Acc: 0.7110\n",
      "Epoch 330/500, Loss: 0.6790, Train Acc: 0.7782, Test Acc: 0.7189\n",
      "Epoch 335/500, Loss: 0.6733, Train Acc: 0.7852, Test Acc: 0.7229\n",
      "Epoch 340/500, Loss: 0.6750, Train Acc: 0.7666, Test Acc: 0.7078\n",
      "Epoch 345/500, Loss: 0.6699, Train Acc: 0.7739, Test Acc: 0.7140\n",
      "Epoch 350/500, Loss: 0.6743, Train Acc: 0.7688, Test Acc: 0.7109\n",
      "Epoch 355/500, Loss: 0.6691, Train Acc: 0.7793, Test Acc: 0.7196\n",
      "Epoch 360/500, Loss: 0.6655, Train Acc: 0.7700, Test Acc: 0.7130\n",
      "Epoch 365/500, Loss: 0.6674, Train Acc: 0.7793, Test Acc: 0.7167\n",
      "Epoch 370/500, Loss: 0.6681, Train Acc: 0.7823, Test Acc: 0.7249\n",
      "Epoch 375/500, Loss: 0.6570, Train Acc: 0.7869, Test Acc: 0.7237\n",
      "Epoch 380/500, Loss: 0.6614, Train Acc: 0.7646, Test Acc: 0.7070\n",
      "Epoch 385/500, Loss: 0.6628, Train Acc: 0.7894, Test Acc: 0.7241\n",
      "Epoch 390/500, Loss: 0.6622, Train Acc: 0.7688, Test Acc: 0.7107\n",
      "Epoch 395/500, Loss: 0.6562, Train Acc: 0.7797, Test Acc: 0.7207\n",
      "Epoch 400/500, Loss: 0.6565, Train Acc: 0.7842, Test Acc: 0.7223\n",
      "Epoch 405/500, Loss: 0.6552, Train Acc: 0.7848, Test Acc: 0.7228\n",
      "Epoch 410/500, Loss: 0.6555, Train Acc: 0.7666, Test Acc: 0.7050\n",
      "Epoch 415/500, Loss: 0.6485, Train Acc: 0.7778, Test Acc: 0.7182\n",
      "Epoch 420/500, Loss: 0.6507, Train Acc: 0.7829, Test Acc: 0.7170\n",
      "Epoch 425/500, Loss: 0.6595, Train Acc: 0.7778, Test Acc: 0.7115\n",
      "Epoch 430/500, Loss: 0.6543, Train Acc: 0.7806, Test Acc: 0.7154\n",
      "Epoch 435/500, Loss: 0.6494, Train Acc: 0.7904, Test Acc: 0.7226\n",
      "Epoch 440/500, Loss: 0.6477, Train Acc: 0.7741, Test Acc: 0.7121\n",
      "Epoch 445/500, Loss: 0.6485, Train Acc: 0.7734, Test Acc: 0.7131\n",
      "Epoch 450/500, Loss: 0.6442, Train Acc: 0.7930, Test Acc: 0.7240\n",
      "Epoch 455/500, Loss: 0.6439, Train Acc: 0.7626, Test Acc: 0.7052\n",
      "Epoch 460/500, Loss: 0.6425, Train Acc: 0.7818, Test Acc: 0.7178\n",
      "Epoch 465/500, Loss: 0.6413, Train Acc: 0.7876, Test Acc: 0.7197\n",
      "Epoch 470/500, Loss: 0.6360, Train Acc: 0.7807, Test Acc: 0.7146\n",
      "Epoch 475/500, Loss: 0.6423, Train Acc: 0.7698, Test Acc: 0.7048\n",
      "Epoch 480/500, Loss: 0.6386, Train Acc: 0.7656, Test Acc: 0.6995\n",
      "Epoch 485/500, Loss: 0.6334, Train Acc: 0.7890, Test Acc: 0.7192\n",
      "Epoch 490/500, Loss: 0.6339, Train Acc: 0.7700, Test Acc: 0.7078\n",
      "Epoch 495/500, Loss: 0.6332, Train Acc: 0.7884, Test Acc: 0.7219\n",
      "Epoch 500/500, Loss: 0.6382, Train Acc: 0.7891, Test Acc: 0.7184\n"
     ]
    }
   ],
   "source": [
    "lr.train(trainData_Embedding_tensor, trainLabels_tensor, testData_Embedding_tensor, testLabels_tensor)"
   ]
  },
  {
   "cell_type": "code",
   "execution_count": null,
   "metadata": {},
   "outputs": [],
   "source": []
  }
 ],
 "metadata": {
  "kernelspec": {
   "display_name": "Python 3",
   "language": "python",
   "name": "python3"
  },
  "language_info": {
   "codemirror_mode": {
    "name": "ipython",
    "version": 3
   },
   "file_extension": ".py",
   "mimetype": "text/x-python",
   "name": "python",
   "nbconvert_exporter": "python",
   "pygments_lexer": "ipython3",
   "version": "3.11.9"
  }
 },
 "nbformat": 4,
 "nbformat_minor": 2
}
