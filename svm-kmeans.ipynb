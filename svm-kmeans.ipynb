{
 "cells": [
  {
   "cell_type": "markdown",
   "metadata": {},
   "source": [
    "## Importing all necessary libraries"
   ]
  },
  {
   "cell_type": "code",
   "execution_count": 20,
   "metadata": {},
   "outputs": [
    {
     "name": "stdout",
     "output_type": "stream",
     "text": [
      "Requirement already satisfied: scikit-learn-intelex in c:\\users\\liuho\\appdata\\local\\packages\\pythonsoftwarefoundation.python.3.11_qbz5n2kfra8p0\\localcache\\local-packages\\python311\\site-packages (2024.2.0)\n",
      "Requirement already satisfied: daal4py==2024.2.0 in c:\\users\\liuho\\appdata\\local\\packages\\pythonsoftwarefoundation.python.3.11_qbz5n2kfra8p0\\localcache\\local-packages\\python311\\site-packages (from scikit-learn-intelex) (2024.2.0)\n",
      "Requirement already satisfied: scikit-learn>=0.22 in c:\\users\\liuho\\appdata\\local\\packages\\pythonsoftwarefoundation.python.3.11_qbz5n2kfra8p0\\localcache\\local-packages\\python311\\site-packages (from scikit-learn-intelex) (1.2.2)\n",
      "Requirement already satisfied: daal==2024.2.0 in c:\\users\\liuho\\appdata\\local\\packages\\pythonsoftwarefoundation.python.3.11_qbz5n2kfra8p0\\localcache\\local-packages\\python311\\site-packages (from daal4py==2024.2.0->scikit-learn-intelex) (2024.2.0)\n",
      "Requirement already satisfied: numpy>=1.19 in c:\\users\\liuho\\appdata\\local\\packages\\pythonsoftwarefoundation.python.3.11_qbz5n2kfra8p0\\localcache\\local-packages\\python311\\site-packages (from daal4py==2024.2.0->scikit-learn-intelex) (1.24.3)\n",
      "Requirement already satisfied: tbb==2021.* in c:\\users\\liuho\\appdata\\local\\packages\\pythonsoftwarefoundation.python.3.11_qbz5n2kfra8p0\\localcache\\local-packages\\python311\\site-packages (from daal==2024.2.0->daal4py==2024.2.0->scikit-learn-intelex) (2021.12.0)\n",
      "Requirement already satisfied: scipy>=1.3.2 in c:\\users\\liuho\\appdata\\local\\packages\\pythonsoftwarefoundation.python.3.11_qbz5n2kfra8p0\\localcache\\local-packages\\python311\\site-packages (from scikit-learn>=0.22->scikit-learn-intelex) (1.10.1)\n",
      "Requirement already satisfied: joblib>=1.1.1 in c:\\users\\liuho\\appdata\\local\\packages\\pythonsoftwarefoundation.python.3.11_qbz5n2kfra8p0\\localcache\\local-packages\\python311\\site-packages (from scikit-learn>=0.22->scikit-learn-intelex) (1.2.0)\n",
      "Requirement already satisfied: threadpoolctl>=2.0.0 in c:\\users\\liuho\\appdata\\local\\packages\\pythonsoftwarefoundation.python.3.11_qbz5n2kfra8p0\\localcache\\local-packages\\python311\\site-packages (from scikit-learn>=0.22->scikit-learn-intelex) (3.1.0)\n"
     ]
    }
   ],
   "source": [
    "!pip install scikit-learn-intelex ## for x86 only"
   ]
  },
  {
   "cell_type": "code",
   "execution_count": 1,
   "metadata": {},
   "outputs": [],
   "source": [
    "import pandas as pd\n",
    "import numpy as np\n",
    "from PIL import Image\n",
    "\n",
    "from sklearn.manifold import TSNE\n",
    "from sklearn.decomposition import PCA\n",
    "from sklearn.discriminant_analysis import LinearDiscriminantAnalysis\n",
    "\n",
    "from sklearn.preprocessing import StandardScaler\n",
    "\n",
    "from sklearn.cluster import MiniBatchKMeans\n",
    "\n",
    "from sklearn.svm import SVC\n",
    "import cv2\n",
    "\n",
    "from sklearn.model_selection import train_test_split\n",
    "from sklearn.metrics import confusion_matrix\n",
    "\n",
    "import matplotlib.pyplot as plt"
   ]
  },
  {
   "cell_type": "code",
   "execution_count": 2,
   "metadata": {},
   "outputs": [
    {
     "name": "stderr",
     "output_type": "stream",
     "text": [
      "Intel(R) Extension for Scikit-learn* enabled (https://github.com/intel/scikit-learn-intelex)\n"
     ]
    }
   ],
   "source": [
    "## If your CPU Intel, you may use this to speed up training process\n",
    "\n",
    "from sklearnex import patch_sklearn\n",
    "patch_sklearn()"
   ]
  },
  {
   "cell_type": "code",
   "execution_count": 8,
   "metadata": {},
   "outputs": [],
   "source": [
    "from sklearnex import unpatch_sklearn\n",
    "unpatch_sklearn()"
   ]
  },
  {
   "cell_type": "markdown",
   "metadata": {},
   "source": [
    "## Reading Data and basic Feature Extraction"
   ]
  },
  {
   "cell_type": "code",
   "execution_count": 3,
   "metadata": {},
   "outputs": [],
   "source": [
    "def read_data(mode=\"train\", p=0.2, seed=None):\n",
    "    \"\"\"\n",
    "    Read the training/testing files and return the input data and labels.\n",
    "\n",
    "    Parameters:\n",
    "    ----------\n",
    "    mode (str): 'train' or 'test' to read the training or testing data.\n",
    "    p (float): fraction of the data to read. Useful for debugging.\n",
    "    seed (int): random seed to use for reproducibility.\n",
    "\n",
    "    Returns:\n",
    "    -------\n",
    "    X (np.array): input data\n",
    "    y (np.array): labels\n",
    "    \"\"\"\n",
    "    if mode == \"train\" or mode == \"test\":\n",
    "        data = pd.read_csv('train.csv')\n",
    "        mode = \"train\"\n",
    "    elif mode == \"predict\":\n",
    "        data = pd.read_csv('test.csv')\n",
    "        mode = \"test\"\n",
    "    else:\n",
    "        raise ValueError(\"mode must be 'train' or 'test' or 'predict'\")\n",
    "\n",
    "    if mode != \"test\":\n",
    "        if seed is None:data = data.sample(frac=p)\n",
    "        else: data = data.sample(frac=p, random_state=seed)\n",
    "\n",
    "    X = data['im_name'].apply(lambda filename: np.asarray(Image.open(f\"{mode}_ims/{filename}\"))).values\n",
    "    y = data['label'].values\n",
    "    X = np.stack(X).reshape(-1, 32*32*3)\n",
    "\n",
    "    return X, y"
   ]
  },
  {
   "cell_type": "code",
   "execution_count": 4,
   "metadata": {},
   "outputs": [],
   "source": [
    "def predict_data(predictedLabels, fp='test.csv'):\n",
    "    \"\"\"\n",
    "    Writes and predicts the testing files.\n",
    "\n",
    "    Parameters:\n",
    "    ----------\n",
    "    predictedLabels (np.array): predicted labels for the testing data.\n",
    "    fp (str): filepath to write the predicted labels.\n",
    "\n",
    "    Returns:\n",
    "    -------\n",
    "    None\n",
    "    \"\"\"\n",
    "    data = pd.read_csv('test.csv')\n",
    "    data['label'] = predictedLabels\n",
    "    data.to_csv(fp, index=False)"
   ]
  },
  {
   "cell_type": "code",
   "execution_count": 5,
   "metadata": {},
   "outputs": [
    {
     "name": "stdout",
     "output_type": "stream",
     "text": [
      "[4017, 3973, 4033, 4009, 3960, 3992, 3984, 4007, 4069, 3956]\n"
     ]
    },
    {
     "data": {
      "text/plain": [
       "((40000, 3072), (40000,), (10000, 3072), (10000,))"
      ]
     },
     "execution_count": 5,
     "metadata": {},
     "output_type": "execute_result"
    }
   ],
   "source": [
    "trainData, trainLabels = read_data(\"train\", p=1, seed=69)\n",
    "trainData, testData, trainLabels, testLabels = train_test_split(trainData, trainLabels, test_size=0.2, random_state=69)\n",
    "print([sum(trainLabels == i) for i in range(10)])\n",
    "trainData.shape, trainLabels.shape, testData.shape, testLabels.shape"
   ]
  },
  {
   "cell_type": "code",
   "execution_count": 6,
   "metadata": {},
   "outputs": [
    {
     "data": {
      "text/plain": [
       "((10000, 3072), (10000,))"
      ]
     },
     "execution_count": 6,
     "metadata": {},
     "output_type": "execute_result"
    }
   ],
   "source": [
    "predictData, predictLabels = read_data(\"predict\", p=1)\n",
    "predictData.shape, predictLabels.shape"
   ]
  },
  {
   "cell_type": "markdown",
   "metadata": {},
   "source": [
    "## K-means and whitening Feature Extraction"
   ]
  },
  {
   "cell_type": "code",
   "execution_count": 7,
   "metadata": {},
   "outputs": [],
   "source": [
    "PATCH_SHAPE = (6, 6)\n",
    "def mem_str(A):\n",
    "    return str(A.shape[0]*A.shape[1]*8/(1024*1024*1024))+'GB' # Currently using float64, shd change to float32 later"
   ]
  },
  {
   "cell_type": "code",
   "execution_count": 8,
   "metadata": {},
   "outputs": [],
   "source": [
    "def patchStandardize(patches):\n",
    "    \"\"\"\n",
    "    Standardizes patches by P_norm = (P - mean)/sqrt(var + 10).\n",
    "    \"\"\"\n",
    "    patches *= 255\n",
    "    patches -= patches.mean(axis=1, keepdims=True)\n",
    "    _var = patches.var(axis=1, keepdims=True) + 10\n",
    "    patches /= np.sqrt(_var)\n",
    "    return patches / 255"
   ]
  },
  {
   "cell_type": "code",
   "execution_count": 9,
   "metadata": {},
   "outputs": [],
   "source": [
    "def getRandomPatches(img, patchSize, k):\n",
    "    patches = np.empty((img.shape[0] * k, patchSize[0] * patchSize[1] * 3))\n",
    "    img_samples = np.random.randint(0, img.shape[0], img.shape[0] * k)\n",
    "    row_samples = np.random.randint(0, img.shape[1] - patchSize[0] + 1, img.shape[0] * k)\n",
    "    col_samples = np.random.randint(0, img.shape[2] - patchSize[1] + 1, img.shape[0] * k)\n",
    "    for i, (imgIdx, rowIdx, colIdx) in enumerate(zip(img_samples, row_samples, col_samples)):\n",
    "        patches[i] = img[imgIdx, rowIdx:rowIdx+patchSize[0], colIdx:colIdx+patchSize[1]].ravel()\n",
    "    return patches"
   ]
  },
  {
   "cell_type": "code",
   "execution_count": 10,
   "metadata": {},
   "outputs": [],
   "source": [
    "def enchanceImg(img):\n",
    "    _width = int(np.sqrt(img.shape[1] / 3))\n",
    "    img = img.reshape(_width, _width, 3)\n",
    "    return (img - img.min())/(img.max() - img.min())"
   ]
  },
  {
   "cell_type": "code",
   "execution_count": 11,
   "metadata": {},
   "outputs": [],
   "source": [
    "class Whiten():\n",
    "    def __init__(self, eps=1e-2):\n",
    "        self.eps = eps\n",
    "        self.mean = None\n",
    "        self.W = None\n",
    "    def zca(self, A):\n",
    "        \"\"\"\n",
    "        We aim to find a linear transformation W of X, such that the cov() on the transformed result of X will be diagonal. \n",
    "        We add two more restrictions:\n",
    "        1. The co-variance result should be close to the identity (diagnoal restricted to 1's). \n",
    "        2. W should be symetric W = W.T\n",
    "        with these restirctions, the math expression can be found at : (see the formula development at: page 48 at https://www.cs.toronto.edu/~kriz/learning-features-2009-TR.pdf)\n",
    "        \"\"\"\n",
    "        U, S, V = np.linalg.svd(A.T @ A / A.shape[1] , full_matrices=True)\n",
    "        self.W = U @ np.diag(1.0/np.sqrt(S + self.eps)) @ U.T\n",
    "        return np.dot(A, self.W)\n",
    "    def fit_transform(self, X):\n",
    "        self.mean = np.mean(X, axis=0)\n",
    "        return self.zca(X - self.mean)\n",
    "    def transform(self, X):\n",
    "        return (X - self.mean) @ self.W"
   ]
  },
  {
   "cell_type": "code",
   "execution_count": 15,
   "metadata": {},
   "outputs": [],
   "source": [
    "from sklearn.feature_extraction import image\n",
    "\n",
    "class KMeansEmbedding():\n",
    "    def __init__(self, k, seed=None):\n",
    "        self.k = k\n",
    "        self.seed = seed\n",
    "        self.kmeans = MiniBatchKMeans(n_clusters=k, n_init='auto', random_state=seed)\n",
    "        self.batchSize = 5000\n",
    "        self.patchSize = PATCH_SHAPE\n",
    "        self.poolShape = (2, 2)\n",
    "        self.patchExtractor = image.PatchExtractor(patch_size=self.patchSize,random_state=seed)\n",
    "    def partial_fit(self, X):\n",
    "        self.kmeans.partial_fit(X)\n",
    "    def _transform(self, X):\n",
    "        distances = self.kmeans.transform(X)\n",
    "        embedding = np.clip(distances.mean(axis=1, keepdims=True) - distances, 0, None)\n",
    "        return embedding\n",
    "    def transform(self, X, whitener):\n",
    "        embedding = np.zeros((X.shape[0], self.poolShape[0]*self.poolShape[1]*self.k))\n",
    "        for imgIdx in range(0, X.shape[0], self.batchSize):\n",
    "            _X = X[imgIdx:imgIdx+self.batchSize]\n",
    "            poolZoneShape = ((_X.shape[1]-self.patchSize[0]+1)//self.poolShape[0], (_X.shape[2]-self.patchSize[1]+1)//self.poolShape[1])\n",
    "            zone = 0\n",
    "            for zone_x in range(0, self.poolShape[0]*poolZoneShape[0], poolZoneShape[0]):\n",
    "                for zone_y in range(0, self.poolShape[1]*poolZoneShape[1], poolZoneShape[1]):\n",
    "                    patches = self.patchExtractor.transform(_X[:, zone_x:zone_x+poolZoneShape[0]+self.patchSize[0]-1, zone_y:zone_y+poolZoneShape[1]+self.patchSize[1]-1])\n",
    "                    patches = patches.reshape(patches.shape[0], -1)\n",
    "                    patches = patchStandardize(patches)\n",
    "                    patches = whitener.transform(patches)\n",
    "                    embedding[imgIdx:imgIdx+self.batchSize, zone*self.k:(zone+1)*self.k] = self._transform(patches).reshape(_X.shape[0], int(patches.shape[0]/_X.shape[0]), self.k).sum(axis=1)\n",
    "                    zone += 1\n",
    "        return embedding"
   ]
  },
  {
   "cell_type": "code",
   "execution_count": 16,
   "metadata": {},
   "outputs": [],
   "source": [
    "kmeansEmbedding = KMeansEmbedding(800, seed=69)\n",
    "whitener = Whiten()"
   ]
  },
  {
   "cell_type": "code",
   "execution_count": 17,
   "metadata": {},
   "outputs": [
    {
     "name": "stdout",
     "output_type": "stream",
     "text": [
      "Num of iters = 8\n",
      "Total Patches = 4000000\n",
      "Features per step per image = 13\n",
      "Each iter requires 0.4184 GB of memory\n",
      "Before Whitening\n"
     ]
    },
    {
     "data": {
      "image/png": "[encoded data removed]",
      "text/plain": [
       "<Figure size 300x300 with 1 Axes>"
      ]
     },
     "metadata": {},
     "output_type": "display_data"
    },
    {
     "name": "stdout",
     "output_type": "stream",
     "text": [
      "After Whitening\n"
     ]
    },
    {
     "data": {
      "image/png": "[encoded data removed]",
      "text/plain": [
       "<Figure size 300x300 with 1 Axes>"
      ]
     },
     "metadata": {},
     "output_type": "display_data"
    },
    {
     "name": "stdout",
     "output_type": "stream",
     "text": [
      "Iteration 0/8 done\n",
      "Iteration 1/8 done\n",
      "Iteration 2/8 done\n",
      "Iteration 3/8 done\n",
      "Iteration 4/8 done\n",
      "Iteration 5/8 done\n",
      "Iteration 6/8 done\n",
      "Iteration 7/8 done\n"
     ]
    }
   ],
   "source": [
    "whitenerBatch = 25000*100//5\n",
    "\n",
    "totPatches = len(trainData) * 100\n",
    "totSteps = int(np.ceil(totPatches/whitenerBatch))\n",
    "featuresPerStepPerImg = int(np.ceil(totPatches/totSteps/len(trainData)))\n",
    "print(f\"Num of iters = {totSteps}\\nTotal Patches = {totPatches}\\nFeatures per step per image = {featuresPerStepPerImg}\\nEach iter requires {featuresPerStepPerImg*len(trainData)*PATCH_SHAPE[0]*PATCH_SHAPE[1]*3*8/(1024*1024*1024):.4f} GB of memory\")\n",
    "for i in range(totSteps):\n",
    "    patches = getRandomPatches(trainData.reshape(-1, 32, 32, 3), PATCH_SHAPE, featuresPerStepPerImg)\n",
    "    patches = patchStandardize(patches)\n",
    "    if i == 0:\n",
    "        print(\"Before Whitening\")\n",
    "        plt.figure(figsize=(3, 3))\n",
    "        plt.imshow(enchanceImg(patches[:1]))\n",
    "        plt.show()\n",
    "        patches = whitener.fit_transform(patches.reshape(-1, PATCH_SHAPE[0]*PATCH_SHAPE[1]*3))\n",
    "        print(\"After Whitening\")\n",
    "        plt.figure(figsize=(3, 3))\n",
    "        plt.imshow(enchanceImg(patches[:1]))\n",
    "        plt.show()\n",
    "    else:\n",
    "        patches = whitener.transform(patches.reshape(-1, PATCH_SHAPE[0]*PATCH_SHAPE[1]*3))\n",
    "    kmeansEmbedding.partial_fit(patches)\n",
    "    print(f\"Iteration {i+1}/{totSteps} done\")"
   ]
  },
  {
   "cell_type": "code",
   "execution_count": 18,
   "metadata": {},
   "outputs": [
    {
     "data": {
      "text/plain": [
       "((40000, 3200), (10000, 3200), (10000, 3200))"
      ]
     },
     "execution_count": 18,
     "metadata": {},
     "output_type": "execute_result"
    }
   ],
   "source": [
    "trainData_Embedding = kmeansEmbedding.transform(trainData.reshape(-1, 32, 32, 3), whitener)\n",
    "testData_Embedding = kmeansEmbedding.transform(testData.reshape(-1, 32, 32, 3), whitener)\n",
    "predictData_Embedding = kmeansEmbedding.transform(predictData.reshape(-1, 32, 32, 3), whitener)\n",
    "trainData_Embedding.shape, testData_Embedding.shape, predictData_Embedding.shape"
   ]
  },
  {
   "cell_type": "code",
   "execution_count": 19,
   "metadata": {},
   "outputs": [
    {
     "data": {
      "text/plain": [
       "array([1.88130008, 2.04769684, 0.07840176, 1.66752202, 2.28936141,\n",
       "       2.17309582, 1.70954833, 2.73055598, 1.59098838, 2.55868996])"
      ]
     },
     "execution_count": 19,
     "metadata": {},
     "output_type": "execute_result"
    }
   ],
   "source": [
    "trainData_Embedding[0, :10]"
   ]
  },
  {
   "cell_type": "code",
   "execution_count": 20,
   "metadata": {},
   "outputs": [
    {
     "data": {
      "text/html": [
       "<style>#sk-container-id-1 {color: black;background-color: white;}#sk-container-id-1 pre{padding: 0;}#sk-container-id-1 div.sk-toggleable {background-color: white;}#sk-container-id-1 label.sk-toggleable__label {cursor: pointer;display: block;width: 100%;margin-bottom: 0;padding: 0.3em;box-sizing: border-box;text-align: center;}#sk-container-id-1 label.sk-toggleable__label-arrow:before {content: \"▸\";float: left;margin-right: 0.25em;color: #696969;}#sk-container-id-1 label.sk-toggleable__label-arrow:hover:before {color: black;}#sk-container-id-1 div.sk-estimator:hover label.sk-toggleable__label-arrow:before {color: black;}#sk-container-id-1 div.sk-toggleable__content {max-height: 0;max-width: 0;overflow: hidden;text-align: left;background-color: #f0f8ff;}#sk-container-id-1 div.sk-toggleable__content pre {margin: 0.2em;color: black;border-radius: 0.25em;background-color: #f0f8ff;}#sk-container-id-1 input.sk-toggleable__control:checked~div.sk-toggleable__content {max-height: 200px;max-width: 100%;overflow: auto;}#sk-container-id-1 input.sk-toggleable__control:checked~label.sk-toggleable__label-arrow:before {content: \"▾\";}#sk-container-id-1 div.sk-estimator input.sk-toggleable__control:checked~label.sk-toggleable__label {background-color: #d4ebff;}#sk-container-id-1 div.sk-label input.sk-toggleable__control:checked~label.sk-toggleable__label {background-color: #d4ebff;}#sk-container-id-1 input.sk-hidden--visually {border: 0;clip: rect(1px 1px 1px 1px);clip: rect(1px, 1px, 1px, 1px);height: 1px;margin: -1px;overflow: hidden;padding: 0;position: absolute;width: 1px;}#sk-container-id-1 div.sk-estimator {font-family: monospace;background-color: #f0f8ff;border: 1px dotted black;border-radius: 0.25em;box-sizing: border-box;margin-bottom: 0.5em;}#sk-container-id-1 div.sk-estimator:hover {background-color: #d4ebff;}#sk-container-id-1 div.sk-parallel-item::after {content: \"\";width: 100%;border-bottom: 1px solid gray;flex-grow: 1;}#sk-container-id-1 div.sk-label:hover label.sk-toggleable__label {background-color: #d4ebff;}#sk-container-id-1 div.sk-serial::before {content: \"\";position: absolute;border-left: 1px solid gray;box-sizing: border-box;top: 0;bottom: 0;left: 50%;z-index: 0;}#sk-container-id-1 div.sk-serial {display: flex;flex-direction: column;align-items: center;background-color: white;padding-right: 0.2em;padding-left: 0.2em;position: relative;}#sk-container-id-1 div.sk-item {position: relative;z-index: 1;}#sk-container-id-1 div.sk-parallel {display: flex;align-items: stretch;justify-content: center;background-color: white;position: relative;}#sk-container-id-1 div.sk-item::before, #sk-container-id-1 div.sk-parallel-item::before {content: \"\";position: absolute;border-left: 1px solid gray;box-sizing: border-box;top: 0;bottom: 0;left: 50%;z-index: -1;}#sk-container-id-1 div.sk-parallel-item {display: flex;flex-direction: column;z-index: 1;position: relative;background-color: white;}#sk-container-id-1 div.sk-parallel-item:first-child::after {align-self: flex-end;width: 50%;}#sk-container-id-1 div.sk-parallel-item:last-child::after {align-self: flex-start;width: 50%;}#sk-container-id-1 div.sk-parallel-item:only-child::after {width: 0;}#sk-container-id-1 div.sk-dashed-wrapped {border: 1px dashed gray;margin: 0 0.4em 0.5em 0.4em;box-sizing: border-box;padding-bottom: 0.4em;background-color: white;}#sk-container-id-1 div.sk-label label {font-family: monospace;font-weight: bold;display: inline-block;line-height: 1.2em;}#sk-container-id-1 div.sk-label-container {text-align: center;}#sk-container-id-1 div.sk-container {/* jupyter's `normalize.less` sets `[hidden] { display: none; }` but bootstrap.min.css set `[hidden] { display: none !important; }` so we also need the `!important` here to be able to override the default hidden behavior on the sphinx rendered scikit-learn.org. See: https://github.com/scikit-learn/scikit-learn/issues/21755 */display: inline-block !important;position: relative;}#sk-container-id-1 div.sk-text-repr-fallback {display: none;}</style><div id=\"sk-container-id-1\" class=\"sk-top-container\"><div class=\"sk-text-repr-fallback\"><pre>LinearSVC(C=0.5, dual=False, random_state=69)</pre><b>In a Jupyter environment, please rerun this cell to show the HTML representation or trust the notebook. <br />On GitHub, the HTML representation is unable to render, please try loading this page with nbviewer.org.</b></div><div class=\"sk-container\" hidden><div class=\"sk-item\"><div class=\"sk-estimator sk-toggleable\"><input class=\"sk-toggleable__control sk-hidden--visually\" id=\"sk-estimator-id-1\" type=\"checkbox\" checked><label for=\"sk-estimator-id-1\" class=\"sk-toggleable__label sk-toggleable__label-arrow\">LinearSVC</label><div class=\"sk-toggleable__content\"><pre>LinearSVC(C=0.5, dual=False, random_state=69)</pre></div></div></div></div></div>"
      ],
      "text/plain": [
       "LinearSVC(C=0.5, dual=False, random_state=69)"
      ]
     },
     "execution_count": 20,
     "metadata": {},
     "output_type": "execute_result"
    }
   ],
   "source": [
    "from sklearn import svm\n",
    "\n",
    "svm = svm.LinearSVC(C=0.5, dual=False, random_state=69)\n",
    "svm.fit(trainData_Embedding, trainLabels)"
   ]
  },
  {
   "cell_type": "code",
   "execution_count": 21,
   "metadata": {},
   "outputs": [
    {
     "data": {
      "text/plain": [
       "0.7405"
      ]
     },
     "execution_count": 21,
     "metadata": {},
     "output_type": "execute_result"
    }
   ],
   "source": [
    "test_pred = svm.predict(testData_Embedding)\n",
    "(test_pred == testLabels).mean()"
   ]
  },
  {
   "cell_type": "code",
   "execution_count": null,
   "metadata": {},
   "outputs": [
    {
     "data": {
      "text/plain": [
       "0.756425"
      ]
     },
     "execution_count": 25,
     "metadata": {},
     "output_type": "execute_result"
    }
   ],
   "source": [
    "# erm slow\n",
    "train_pred = svm.predict(trainData_Embedding)\n",
    "(train_pred == trainLabels).mean()"
   ]
  },
  {
   "cell_type": "code",
   "execution_count": 23,
   "metadata": {},
   "outputs": [
    {
     "data": {
      "text/plain": [
       "Text(0, 0.5, 'True')"
      ]
     },
     "execution_count": 23,
     "metadata": {},
     "output_type": "execute_result"
    },
    {
     "data": {
      "image/png": "[encoded data removed]",
      "text/plain": [
       "<Figure size 640x480 with 1 Axes>"
      ]
     },
     "metadata": {},
     "output_type": "display_data"
    }
   ],
   "source": [
    "cm = confusion_matrix(testLabels, test_pred)\n",
    "plt.imshow(cm, cmap='Blues')\n",
    "for i in range(10):\n",
    "    for j in range(10):\n",
    "        plt.text(j, i, cm[i, j], ha='center', va='center', color='black' if cm[i, j] < cm.max()/2 else 'white')\n",
    "plt.xlabel(\"Prediction\")\n",
    "plt.ylabel(\"True\")"
   ]
  },
  {
   "cell_type": "markdown",
   "metadata": {},
   "source": []
  },
  {
   "cell_type": "markdown",
   "metadata": {},
   "source": []
  }
 ],
 "metadata": {
  "kernelspec": {
   "display_name": "Python 3",
   "language": "python",
   "name": "python3"
  },
  "language_info": {
   "codemirror_mode": {
    "name": "ipython",
    "version": 3
   },
   "file_extension": ".py",
   "mimetype": "text/x-python",
   "name": "python",
   "nbconvert_exporter": "python",
   "pygments_lexer": "ipython3",
   "version": "3.11.9"
  }
 },
 "nbformat": 4,
 "nbformat_minor": 2
}
