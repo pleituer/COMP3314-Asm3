{
 "cells": [
  {
   "cell_type": "code",
   "execution_count": 2,
   "metadata": {},
   "outputs": [],
   "source": [
    "import pandas as pd\n",
    "import numpy as np\n",
    "from PIL import Image"
   ]
  },
  {
   "cell_type": "code",
   "execution_count": 9,
   "metadata": {},
   "outputs": [],
   "source": [
    "raw_trainData = pd.read_csv('train.csv')\n",
    "raw_trainData\n",
    "\n",
    "def read_data(mode=\"train\", p=0.2, seed=None):\n",
    "    \"\"\"\n",
    "    Read the training/testing files and return the input data and labels.\n",
    "\n",
    "    Parameters:\n",
    "    ----------\n",
    "    mode (str): 'train' or 'test' to read the training or testing data.\n",
    "    p (float): fraction of the data to read. Useful for debugging.\n",
    "    seed (int): random seed to use for reproducibility.\n",
    "\n",
    "    Returns:\n",
    "    -------\n",
    "    X (np.array): input data\n",
    "    y (np.array): labels\n",
    "    \"\"\"\n",
    "    if mode == \"train\":\n",
    "        data = pd.read_csv('train.csv')\n",
    "    elif mode == \"test\":\n",
    "        data = pd.read_csv('test.csv')\n",
    "    else:\n",
    "        raise ValueError(\"mode must be 'train' or 'test'\")\n",
    "\n",
    "    if seed is not None:data = data.sample(frac=p)\n",
    "    else: data = data.sample(frac=p, random_state=seed)\n",
    "\n",
    "    X = data['im_name'].apply(lambda filename: np.asarray(Image.open(f\"train_ims/{filename}\"))).values\n",
    "    y = data['label'].values\n",
    "    X = np.stack(X)\n",
    "\n",
    "    return X, y"
   ]
  },
  {
   "cell_type": "code",
   "execution_count": 10,
   "metadata": {},
   "outputs": [
    {
     "data": {
      "text/plain": [
       "((10000, 32, 32, 3), (10000,))"
      ]
     },
     "execution_count": 10,
     "metadata": {},
     "output_type": "execute_result"
    }
   ],
   "source": [
    "trainData, trainLabels = read_data(seed=69)\n",
    "trainData.shape, trainLabels.shape"
   ]
  },
  {
   "cell_type": "code",
   "execution_count": null,
   "metadata": {},
   "outputs": [],
   "source": []
  }
 ],
 "metadata": {
  "kernelspec": {
   "display_name": "Python 3",
   "language": "python",
   "name": "python3"
  },
  "language_info": {
   "codemirror_mode": {
    "name": "ipython",
    "version": 3
   },
   "file_extension": ".py",
   "mimetype": "text/x-python",
   "name": "python",
   "nbconvert_exporter": "python",
   "pygments_lexer": "ipython3",
   "version": "3.11.9"
  }
 },
 "nbformat": 4,
 "nbformat_minor": 2
}
